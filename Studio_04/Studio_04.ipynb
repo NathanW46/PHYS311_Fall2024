{
 "cells": [
  {
   "cell_type": "markdown",
   "metadata": {},
   "source": [
    "# Classical Mechanics I (PHYS 311)\n",
    "## Studio 4"
   ]
  },
  {
   "cell_type": "markdown",
   "metadata": {},
   "source": [
    "*Name:* \n",
    "\n",
    "*Date:* "
   ]
  },
  {
   "cell_type": "markdown",
   "metadata": {},
   "source": [
    "## Introduction"
   ]
  },
  {
   "cell_type": "markdown",
   "metadata": {},
   "source": [
    "Today we'll:\n",
    "\n",
    "* Start off with a short lecture today to cover some material I wanted to cover on Wednesday but ran out of time on. \n",
    "* This studio starts to get a little more real world. The basics are required, but if you end up with extra time, we'll dive into some rudimentary particle collider physics for extra credit.\n",
    "\n",
    "As always, let's start of with:"
   ]
  },
  {
   "cell_type": "code",
   "execution_count": null,
   "metadata": {
    "scrolled": true
   },
   "outputs": [],
   "source": [
    "%pylab inline"
   ]
  },
  {
   "cell_type": "markdown",
   "metadata": {},
   "source": [
    "Today, we're going to be simulating the motion of charged particles through magnetic fields. They will of course be subject to the Lorentz force.\n",
    "\n",
    "$$\\vec{F} = q (\\vec{E} + \\vec{v}\\times\\vec{B})$$\n",
    "\n",
    "We will assume there is no electric field, and that the magnetic field is purely in the $z$ direction, i.e. $\\vec{B}=(0,0,Bz)$. So let's define a function where we give it a position in 3-space $(x,y,z)$, and it returns the $z$ component of the magnetic field at that location.\n",
    "\n",
    "To keep things simple, let's start with a uniform $B$ field with a value of 1 everywhere. Since it's uniform, it's actually independent of position, so the function is super simple."
   ]
  },
  {
   "cell_type": "code",
   "execution_count": null,
   "metadata": {},
   "outputs": [],
   "source": [
    "def Bz_uniform(x,y,z=0):\n",
    "    \"\"\"\n",
    "    This is called a docstring and is good practice. It's meant to describe the code\n",
    "    ... inside of this block.\n",
    "    \n",
    "    This function Bz_uniform is handed a position in 3D space in cartesean coordinates\n",
    "    ... x,y,z. For each point in that 3D space, it returns the magnitude of a B field\n",
    "    ... in the z direction. Here, this is a uniform B field of value 1. The return\n",
    "    ... value is independent of x,y,z.\n",
    "    \n",
    "    Note that the z=0 notation means that z is an \"optional argument\" and if you don't\n",
    "    ... provide it, it will default to a value of 0.\n",
    "    \n",
    "    Returns: 1, the z-value of the B field at (x,y,z)\n",
    "    \"\"\"\n",
    "    return 1"
   ]
  },
  {
   "cell_type": "markdown",
   "metadata": {},
   "source": [
    "In class, we came up with the equations of motion for a charged particle moving through a B field oriented in the z direction. Let's use those in `odeint`! Remember we have three (because we're in a 3D space now!) first order ODEs (in velocity):\n",
    "\n",
    "$$\\dot{v}_x = \\frac{qB_z}{m} v_y$$\n",
    "$$\\dot{v}_y = -\\frac{qB_z}{m} v_x$$\n",
    "$$\\dot{v}_z = 0$$\n",
    "\n",
    "But we want to get to descriptions of the particle **trajectories**. So this means, getting the positions ($x,y,z$) as a function of time! So we want `odeint` to solve for the positions, but remember that it only handles systems of first order ODEs. So we want to also hand it expressions for the position!\n",
    "\n",
    "$$\\dot{x}=v_x$$\n",
    "$$\\dot{y}=v_y$$\n",
    "$$\\dot{z}=v_z$$\n",
    "\n",
    "Let's plug this system into `odeint`:"
   ]
  },
  {
   "cell_type": "code",
   "execution_count": null,
   "metadata": {},
   "outputs": [],
   "source": [
    "from scipy.integrate import odeint"
   ]
  },
  {
   "cell_type": "code",
   "execution_count": null,
   "metadata": {},
   "outputs": [],
   "source": [
    "# remember that we need to write a function that takes in arguments\n",
    "# ... a: input variables\n",
    "# ... b: time or whatever the derivitive is with respect to\n",
    "# ... c: any other parameters you might need. Here: m and q.\n",
    "# ... Note that B is not taken as an input and is instead calculated inside the function.\n",
    "# ... ... This is because we want the value of the B field to be able to change as the\n",
    "# ... ... particle moves around in space as described by these ODEs.\n",
    "\n",
    "def ode_system(inputs,t,m,q):\n",
    "    \"\"\"\n",
    "    This function represents a series of first order ODEs of a charge particle of charge q and mass m\n",
    "    ... moving in a magnetic field that is purely in the z direction.\n",
    "    ... It internally uses Bz_simple() to define a *uniform* magnetic field.\n",
    "    \n",
    "    Return: List of expressions for the first time derivative of the inputs, in order.\n",
    "    \"\"\"\n",
    "    \n",
    "    # Parse the inputs list to positions x,y,z and vector magnitudes vx, vy, vz\n",
    "    [x,y,z,vx,vy,vz] = inputs\n",
    "    \n",
    "    # The ODEs need the value of Bz at each point in time. We will use Bz_uniform to obtain this value.\n",
    "    B = Bz_uniform(x,y,z)\n",
    "    \n",
    "    # Return the expressions for the time-derivatives of the inputs.\n",
    "    return [vx,vy,vz,vy*q*B/m,-vx*q*B/m,0]"
   ]
  },
  {
   "cell_type": "markdown",
   "metadata": {},
   "source": [
    "Remember that the return value should be expressions for the time derivatives of the input variables. These are the right hand sides (RHS) of the equations above.\n",
    "\n",
    "Great! So let's try to use `odeint` now to solve for the trajectory of a charged particle starting from the origin $(0,0,0)$ and traveling with a velocity in the $\\hat{x}$ direction. Since we're in 3D now, let's pull in a new special tool for plotting 3D things."
   ]
  },
  {
   "cell_type": "code",
   "execution_count": null,
   "metadata": {
    "scrolled": true
   },
   "outputs": [],
   "source": [
    "from mpl_toolkits import mplot3d"
   ]
  },
  {
   "cell_type": "markdown",
   "metadata": {},
   "source": [
    "So let's use this. Define a time range `t_array` between 0 and 2, with 100 steps (using `linspace`)."
   ]
  },
  {
   "cell_type": "code",
   "execution_count": null,
   "metadata": {},
   "outputs": [],
   "source": []
  },
  {
   "cell_type": "code",
   "execution_count": null,
   "metadata": {
    "scrolled": true
   },
   "outputs": [],
   "source": [
    "solutions = odeint(ode_system, (0,0,0,10,0,0), t_array, args=(1,1))\n",
    "# second argument for odeint is initial values of (x,y,z,vx,vy,vz)\n",
    "# Let's also start off easy with a mass and charge of 1\n",
    "\n",
    "# We create 3D axes for plotting\n",
    "ax=axes(projection=\"3d\")\n",
    "# Then hand X,Y,Z arrays to the `plot3D` function. That's the 1st, 2nd, 3rd columns.\n",
    "ax.plot3D(solutions[:,0],solutions[:,1],solutions[:,2])\n",
    "\n",
    "# Beautify with the following lines... (google is your friend)\n",
    "ax.set_xlabel(\"x\"); ax.set_ylabel(\"y\"); ax.set_zlabel(\"z\")\n",
    "ax.set_xlim3d(-10,10); ax.set_ylim3d(-10,10); ax.set_zlim3d(-10,10)"
   ]
  },
  {
   "cell_type": "markdown",
   "metadata": {},
   "source": [
    "That's a nice looking particle track. Comment on the shape below:"
   ]
  },
  {
   "cell_type": "markdown",
   "metadata": {},
   "source": [
    "Fill in here (edit this cell)! These cells accept markdown syntax (google for more info).\n"
   ]
  },
  {
   "cell_type": "markdown",
   "metadata": {},
   "source": [
    "Below, do this again, but for a particle with charge -1 and mass 2, and describe the differences from the plot above."
   ]
  },
  {
   "cell_type": "code",
   "execution_count": null,
   "metadata": {
    "scrolled": true
   },
   "outputs": [],
   "source": []
  },
  {
   "cell_type": "markdown",
   "metadata": {},
   "source": [
    "*Describe the result here*\n"
   ]
  },
  {
   "cell_type": "markdown",
   "metadata": {},
   "source": [
    "**EC(+0.5): Below, make a new cell here and increase the time range explored and show that you reproduce the circular path discussed in class. Then give it some non-zero z velocity, and reproduce the helix discussed in class.**"
   ]
  },
  {
   "cell_type": "code",
   "execution_count": null,
   "metadata": {},
   "outputs": [],
   "source": []
  },
  {
   "cell_type": "markdown",
   "metadata": {},
   "source": [
    "## More complex B field\n",
    "Now let's try to make this more realistic... Let's define a B-field (again in the z direction) that is more complex, and depends on the cylindrical radius ($\\rho$). We're going to use a special function called the error function for fun. Start off by plotting the function `special.erf(x)` as a function of `x`."
   ]
  },
  {
   "cell_type": "code",
   "execution_count": null,
   "metadata": {
    "scrolled": false
   },
   "outputs": [],
   "source": [
    "from scipy import special\n",
    "# Create an x linspace and then plot special.erf(x) vs x.\n",
    "\n"
   ]
  },
  {
   "cell_type": "markdown",
   "metadata": {},
   "source": [
    "You should see that the error function is constructed so that it flips sign for positive vs negative and has a smooth behavior in the transition region. Let's construct a B field function now..."
   ]
  },
  {
   "cell_type": "code",
   "execution_count": null,
   "metadata": {},
   "outputs": [],
   "source": [
    "from scipy import special\n",
    "def Bz_collider(x,y,z=0):\n",
    "    rho = np.sqrt(x*x+y*y) # This is the cylindrical radius rho\n",
    "    # And then we return some complicated function of rho\n",
    "    return 5*special.erf(rho-5)*np.exp(-rho/5.)"
   ]
  },
  {
   "cell_type": "markdown",
   "metadata": {},
   "source": [
    "Plot the value of `Bz_collider` as you go along the x axis. (Holding y and z at 0.) Make sure that you give a range that allows you to see all the dynamic behavior of the function."
   ]
  },
  {
   "cell_type": "code",
   "execution_count": null,
   "metadata": {},
   "outputs": [],
   "source": []
  },
  {
   "cell_type": "markdown",
   "metadata": {},
   "source": [
    "This has some of the qualitative features of the magnetic fields used in collider experiments such as those at the LHC (at CERN) or at RHIC (at Brookhaven National Lab)."
   ]
  },
  {
   "cell_type": "markdown",
   "metadata": {},
   "source": [
    "Just like above, let's define an ODE system using this new B-field parametrization. And then simulate a particle going through it!"
   ]
  },
  {
   "cell_type": "code",
   "execution_count": null,
   "metadata": {},
   "outputs": [],
   "source": [
    "def ode_system_collider(inputs,t,m,q):\n",
    "    \"\"\"\n",
    "    This function represents a series of first order ODEs of a charge particle of charge q and mass m\n",
    "    ... moving in a magnetic field that is purely in the z direction.\n",
    "    ... It internally uses Bz_simple() to define a *uniform* magnetic field.\n",
    "    \n",
    "    Return: List of expressions for the first time derivative of the inputs, in order.\n",
    "    \"\"\"\n",
    "    \n",
    "    # Parse the inputs list to positions x,y,z and vector magnitudes vx, vy, vz\n",
    "    [x,y,z,vx,vy,vz] = inputs\n",
    "    \n",
    "    # The ODEs need the value of Bz at each point in time. We will use Bz_simple to obtain this value.\n",
    "    B = Bz_collider(x,y,z)\n",
    "    \n",
    "    #     NOTICE THAT THE B FIELD FUNCTION HAS CHANGED!!!\n",
    "    \n",
    "    # Return the expressions for the time-derivatives of the inputs.\n",
    "    return [vx,vy,vz,vy*q*B/m,-vx*q*B/m,0]"
   ]
  },
  {
   "cell_type": "markdown",
   "metadata": {},
   "source": [
    "And then let's use this to again simulate a particle travelling in the x direction... Use the example from the uniform B field above! (There should only be one change w.r.t. that example to do this!)"
   ]
  },
  {
   "cell_type": "code",
   "execution_count": null,
   "metadata": {
    "scrolled": true
   },
   "outputs": [],
   "source": [
    "\n"
   ]
  },
  {
   "cell_type": "markdown",
   "metadata": {},
   "source": [
    "Describe the trajectory of this particle. Why does it look the way it does?"
   ]
  },
  {
   "cell_type": "markdown",
   "metadata": {},
   "source": [
    "*Describe here*\n"
   ]
  },
  {
   "cell_type": "markdown",
   "metadata": {},
   "source": [
    "Now do the same thing but give the particle an initial velocity of (10,10,10)! And then comment on what you observe and why it has the behavior it has. Compared to the plot above, this should only be a change in the initial conditions of the problem that are handed to `odeint`."
   ]
  },
  {
   "cell_type": "code",
   "execution_count": null,
   "metadata": {
    "scrolled": true
   },
   "outputs": [],
   "source": [
    "\n"
   ]
  },
  {
   "cell_type": "markdown",
   "metadata": {},
   "source": [
    "## EC(+1.5): Build a rudimentary Monte Carlo simulation for colliders"
   ]
  },
  {
   "cell_type": "markdown",
   "metadata": {},
   "source": [
    "For a whole lot of EC this week, I'll walk you through a basic Monte Carlo (MC) simulation where we randomly draw particle properties from assumed distributions and them send them into this kind of magnetic field, much in the way particle collisions at colliders look like. I promise there are a lot of hints, so if you have the time, give it a shot! This one's cool.\n",
    "\n",
    "Let's start off with some **pseudocode**. Pseudocode is when you map out the logic of what you want to do before you actually implement it! We're going to draw values for the velocity components at random from an underlying distribution, so assume we have a function for that. And let's also assume we'll randomly pick if the particle should be positively charged or negatively charged (let's restrict outselves to +1 and -1 charge for now). And let's also select the mass at random from a list of a few values.\n",
    "\n",
    "And the key is that we want to repeat this process 100 times to send 100 different particles with different properties into this magnetic field. So we should have some sort of loop that will solve the ODEs given a set of parameters, where the parameters change with each iteration of the loop. And for each iteration of the loop, we should add another path to our 3D plot.\n",
    "\n",
    "This week, I'll write the pseudocode for you, and you implement the actual code. When working on the homeworks, try writing out pseudocode to organize your thoughts before implementing in real code!"
   ]
  },
  {
   "cell_type": "markdown",
   "metadata": {},
   "source": [
    "Some pseudo code:\n",
    "\n",
    "```\n",
    "Create a 3D axis.\n",
    "Repeat a process 100 times to produce 100 different particles:\n",
    "\n",
    "    Draw random numbers for the initial velocity components from a distribution\n",
    "    Draw random number from [-1,1] for the charge\n",
    "    Draw random number from a few possible masses from [0.135, 0.497, 0.775]\n",
    "\n",
    "    Hand these parameters to odeint as constants of the problem.\n",
    "    Call the plot3D to create a curve.\n",
    "\n",
    "Label the axes, and set the axis ranges all to -10,10.\n",
    "```"
   ]
  },
  {
   "cell_type": "markdown",
   "metadata": {},
   "source": [
    "Now we have some pseudocode to guide us. Some hints:\n",
    "* For the loop, just use a `for` loop over the object `range(100)`. That will execute the inside 100 times.\n",
    "* For getting the initial velocity components, let's just set all components to `normal(0,10)`. This is a normal (i.e. Gaussian) distribution centered at 0 with a width of 10.\n",
    "* To get a random charge sampling, you can use `sign(normal(0,1))` which will give you the sign of the value returned by `normal`.\n",
    "* For choosing a mass randomly from that list, try out `random.choice([0.135,0.497,775])`."
   ]
  },
  {
   "cell_type": "code",
   "execution_count": null,
   "metadata": {},
   "outputs": [],
   "source": [
    "\n"
   ]
  },
  {
   "cell_type": "markdown",
   "metadata": {},
   "source": [
    "Let's do it again to make a x-y projection of this space so that it's a little easier to see. To do this, let's make an ordinary (not 3d) plot of the x and y positions of the particles instead. (We're collapsing the z dimension down to do this!)"
   ]
  },
  {
   "cell_type": "code",
   "execution_count": null,
   "metadata": {},
   "outputs": [],
   "source": [
    "\n"
   ]
  },
  {
   "cell_type": "markdown",
   "metadata": {},
   "source": [
    "Trippy, right? You can see what a mess these collisions are once there are a bunch of particles. At modern colliders, we spend a lot of time trying to piece together what happened in the collision from a mess of outgoing particles like this. Play with the number of particles and the line style to make a personal work of art out of these collisions!"
   ]
  },
  {
   "cell_type": "code",
   "execution_count": null,
   "metadata": {},
   "outputs": [],
   "source": []
  },
  {
   "cell_type": "markdown",
   "metadata": {},
   "source": [
    "I didn't mention it above, but if you run the command `%matplotlib notebook`, when you plot the 3D axes, you'll be able to move around and change the perspective, which can be fun especially for these collision event plots. These are what we refer to in particle physics as \"Event Displays\""
   ]
  }
 ],
 "metadata": {
  "kernelspec": {
   "display_name": "Python 3",
   "language": "python",
   "name": "python3"
  },
  "language_info": {
   "codemirror_mode": {
    "name": "ipython",
    "version": 3
   },
   "file_extension": ".py",
   "mimetype": "text/x-python",
   "name": "python",
   "nbconvert_exporter": "python",
   "pygments_lexer": "ipython3",
   "version": "3.8.8"
  },
  "toc": {
   "base_numbering": 1,
   "nav_menu": {},
   "number_sections": true,
   "sideBar": true,
   "skip_h1_title": false,
   "title_cell": "Table of Contents",
   "title_sidebar": "Contents",
   "toc_cell": false,
   "toc_position": {},
   "toc_section_display": true,
   "toc_window_display": false
  },
  "varInspector": {
   "cols": {
    "lenName": 16,
    "lenType": 16,
    "lenVar": 40
   },
   "kernels_config": {
    "python": {
     "delete_cmd_postfix": "",
     "delete_cmd_prefix": "del ",
     "library": "var_list.py",
     "varRefreshCmd": "print(var_dic_list())"
    },
    "r": {
     "delete_cmd_postfix": ") ",
     "delete_cmd_prefix": "rm(",
     "library": "var_list.r",
     "varRefreshCmd": "cat(var_dic_list()) "
    }
   },
   "types_to_exclude": [
    "module",
    "function",
    "builtin_function_or_method",
    "instance",
    "_Feature"
   ],
   "window_display": false
  }
 },
 "nbformat": 4,
 "nbformat_minor": 2
}
