{
 "cells": [
  {
   "cell_type": "markdown",
   "metadata": {},
   "source": [
    "# Classical Mechanics I (PHYS 311)\n",
    "## Studio 6"
   ]
  },
  {
   "cell_type": "markdown",
   "metadata": {},
   "source": [
    "*Name:* \n",
    "\n",
    "*Date:* "
   ]
  },
  {
   "cell_type": "markdown",
   "metadata": {},
   "source": [
    "## Introduction\n",
    "\n",
    "Today, we're going to learn about *aliasing*. Aliasing is the corruption of a signal, or the incorrect interpretation of a signal due to limited sampling. Since the programming-portion of this course is all about numerical methods in physics, this is an important concept. Keep the outcomes of this studio in mind for all of the numerical work we do! We need to make sure that we're coming to correct conclusions in our numerical modeling **and not looking at artificial effects**. Thinking about this meaning and how to communicate the results is what makes this physics and not just programming!"
   ]
  },
  {
   "cell_type": "code",
   "execution_count": null,
   "metadata": {
    "scrolled": true
   },
   "outputs": [],
   "source": [
    "%pylab inline"
   ]
  },
  {
   "cell_type": "markdown",
   "metadata": {},
   "source": [
    "## Sampling a sine wave\n",
    "\n",
    "Start by plotting a sine wave $\\sin(2\\pi x/T)$ for a period $T=1$. Use a `linspace` between 0 and 10, with 1000 points in between. Let's call this linspace `x_1000`. You should get a nice smooth sine wave with a period of 1."
   ]
  },
  {
   "cell_type": "code",
   "execution_count": null,
   "metadata": {},
   "outputs": [],
   "source": []
  },
  {
   "cell_type": "markdown",
   "metadata": {},
   "source": [
    "Below, let's try to do the same thing. But in addition to that same sine wave, let's plot it again using markers at each point instead of the default line between points. You can hand a `\"o\"` to the third argument of `plot()` to tell it to use a circle marker. **And instead of plotting it with `x_1000`, let's make a new linspace `x_100` with 100 points between 0 and 10 -- a much coarser sampling!**"
   ]
  },
  {
   "cell_type": "code",
   "execution_count": null,
   "metadata": {},
   "outputs": [],
   "source": []
  },
  {
   "cell_type": "markdown",
   "metadata": {},
   "source": [
    "Things are looking reasonably well represented with 100 points here, but you can see that things are a little less smooth now... Try plotting this 100-sample version on its own with the `\"o-\"` third option, which will draw a marker at every point and then connect each point with a line."
   ]
  },
  {
   "cell_type": "code",
   "execution_count": null,
   "metadata": {},
   "outputs": [],
   "source": []
  },
  {
   "cell_type": "markdown",
   "metadata": {},
   "source": [
    "Notice how it looks mostly the same as the 1000 version but is just a little... pointier.\n",
    "\n",
    "But now try plotting the same function but with a linspace that only has 25 point in it between 0 and 10. This time, don't draw it with the higher resolution versions. How does that look? Does it still represent the original function well? **Comment on the result**"
   ]
  },
  {
   "cell_type": "code",
   "execution_count": null,
   "metadata": {},
   "outputs": [],
   "source": []
  },
  {
   "cell_type": "markdown",
   "metadata": {},
   "source": [
    "Let's continue to destroy this function by further under-sampling it! Try out N=20, 16, 13, 12, 11, 10, 5.\n",
    "\n",
    "(**Loops are your friend! Make your code concise, readable, and not redundant.**)\n",
    "\n",
    "For each of them, comment on what the apparent number of cycles you see in this interval between 0 and 10, and what the rough period looks like. Describe what the shapes look like. If you were given these datapoints, would you have enough information to get back to the original underlying function? Use the example markdown table below to present your findings.\n"
   ]
  },
  {
   "cell_type": "code",
   "execution_count": null,
   "metadata": {},
   "outputs": [],
   "source": []
  },
  {
   "cell_type": "markdown",
   "metadata": {},
   "source": [
    "| N    | Apparent Cycles | Approx Period | Description |\n",
    "| ---- | --------------- | ------------- | ----------- |\n",
    "| 100  | 10              | 1             | Ok representation of original fn |\n",
    "| 25   | 10              | 1             | Really jagged, with a modulation of another period |\n",
    "| etc  | Fill in your findings |               |             | "
   ]
  },
  {
   "cell_type": "markdown",
   "metadata": {},
   "source": [
    "## Nyquist-Shannon Sampling"
   ]
  },
  {
   "cell_type": "markdown",
   "metadata": {},
   "source": [
    "Ok -- So now we can see that as we sample a function less frequently, we start to get bad and sometimes incredibly misleading interpretations of the function. Let's flip it! Let's see what happens if we have a fixed sampling frequency. What are the limits of what we can hope to represent with that sampling? We'll find this out below."
   ]
  },
  {
   "cell_type": "markdown",
   "metadata": {},
   "source": [
    "Let's take that same range of [0,10]. Let's create a linspace with 100 points. We have 100 points per 10 units of x. So the sampling is 10 samplings per 1 unit of x. If x is time and we're measuring in seconds, then this would be a 10 samplings per second, or a 10 Hz sampling frequency. Let's assume from here that we're looking at x as a time and its units are seconds.\n",
    "\n",
    "**Try to create variables that don't have the same name as elsewhere in the notebook so that they don't clash! Think of these variables as being \"global\" to the whole notebook. And in general, try to have your variable names be descriptive to make your code more readable.**"
   ]
  },
  {
   "cell_type": "code",
   "execution_count": null,
   "metadata": {},
   "outputs": [],
   "source": []
  },
  {
   "cell_type": "markdown",
   "metadata": {},
   "source": [
    "Instead of changing the sampling rate, let's now try changing the signal frequency. That will mean reducing the period $T$. Before we had a period $T=1$ s. **What is the frequency in Hz of the sine wave function from the previous section?**\n",
    "\n",
    "Write a **python** function that will give you the period, given a frequency. You will be able to use this function to help you in the next part."
   ]
  },
  {
   "cell_type": "code",
   "execution_count": null,
   "metadata": {},
   "outputs": [],
   "source": []
  },
  {
   "cell_type": "markdown",
   "metadata": {},
   "source": [
    "Let's start with a sine wave with a frequency of 50 mHz. Plot such a sine wave using the 100 samplings between 0 and 1 that you made above."
   ]
  },
  {
   "cell_type": "code",
   "execution_count": null,
   "metadata": {},
   "outputs": [],
   "source": []
  },
  {
   "cell_type": "markdown",
   "metadata": {},
   "source": [
    "Now repeat this with the same 10 Hz sampling, but for a sine wave that has a frequency of 100 mHz, 500 mHz, 1 Hz, 5 Hz, 10 Hz.\n",
    "\n",
    "You should see some pretty shapes, but those aren't sine waves! So the **sampling** has led to a mis-representation of the input sine wave signal."
   ]
  },
  {
   "cell_type": "code",
   "execution_count": null,
   "metadata": {},
   "outputs": [],
   "source": []
  },
  {
   "cell_type": "markdown",
   "metadata": {},
   "source": [
    "**EC(+0.5): Draw each of these frequencies sine waves but plotted on multiple axes on a single figure, sharing the same x axis. Label everything to communicate your results effectively. You'll want to use the subplots feature of mpl. See https://matplotlib.org/stable/gallery/subplots_axes_and_figures/ganged_plots.html#sphx-glr-gallery-subplots-axes-and-figures-ganged-plots-py for hints.**"
   ]
  },
  {
   "cell_type": "code",
   "execution_count": null,
   "metadata": {},
   "outputs": [],
   "source": []
  },
  {
   "cell_type": "markdown",
   "metadata": {},
   "source": [
    "What's the highest frequency before you start seeing jagged-ness from the sampling? What's the highest frequency before you see severe distortion of the signal where it looks nothing like what you intended? **Comment on this!**\n",
    "\n",
    "Repeat the exercise for other signal frequencies. Poke around to find when it no longer gives a reasonable representation of the signal. **Comment on at what frequency it seems we start to have these aliasing problems.**"
   ]
  },
  {
   "cell_type": "code",
   "execution_count": null,
   "metadata": {
    "scrolled": true
   },
   "outputs": [],
   "source": []
  },
  {
   "cell_type": "markdown",
   "metadata": {},
   "source": [
    "There is lots to learn about sampling and this is the underpinning of digital music, lots of image processing, high frequency electronics, or just any time we take discrete samples of some signal.\n",
    "\n",
    "(Look up the Nyquist Frequency and the Nyquist-Shannon Theorem on wikipedia for more info. I'll also post a related video about how digital music works on the canvas module.)\n",
    "\n",
    "**The important thing to take away from this is that you MUST make sure that when you're doing numerical methods like this, you're sampling enough to represent the underlying function/physics! We'll dive much deeper into this as we start discussing oscillations in a few weeks!**\n",
    "\n",
    "Please sign below:\n",
    "\n",
    "I will never under-sample a solution in a physics class and will ask myself if I've captured the correct high-frequency behavior.\n",
    "\n",
    "\n",
    "X --------------------\n",
    "\n",
    "(No, you don't really have to sign.)"
   ]
  },
  {
   "cell_type": "markdown",
   "metadata": {},
   "source": [
    "**EC(+1.0): Import the `signal` package from the `scipy` module. Create a sampling time `linspace` between -5 and 5 at a rate of 0.1 Hz (how many sampling do you expect in this range for that frequency?) and use it to sample the function `signal.gausspulse(t, fc=5, bw=0.2)` (where `t` is whatever you called your linspace) and plot the result. Comment on the result.**\n",
    "\n",
    "**Then start to increase the sampling rate slowly until you start to see the true behavior of the signal (demonstrate all this by keeping the various plots in this notebook!). At what point does increasing the sampling frequency not reveal any new behavior?**\n",
    "\n",
    "Undersampling can give misleading results! If you undersample this enough, it looks like this pulse never even happened!"
   ]
  },
  {
   "cell_type": "code",
   "execution_count": null,
   "metadata": {},
   "outputs": [],
   "source": []
  }
 ],
 "metadata": {
  "kernelspec": {
   "display_name": "Python 3",
   "language": "python",
   "name": "python3"
  },
  "language_info": {
   "codemirror_mode": {
    "name": "ipython",
    "version": 3
   },
   "file_extension": ".py",
   "mimetype": "text/x-python",
   "name": "python",
   "nbconvert_exporter": "python",
   "pygments_lexer": "ipython3",
   "version": "3.8.8"
  },
  "toc": {
   "base_numbering": 1,
   "nav_menu": {},
   "number_sections": true,
   "sideBar": true,
   "skip_h1_title": false,
   "title_cell": "Table of Contents",
   "title_sidebar": "Contents",
   "toc_cell": false,
   "toc_position": {},
   "toc_section_display": true,
   "toc_window_display": false
  },
  "varInspector": {
   "cols": {
    "lenName": 16,
    "lenType": 16,
    "lenVar": 40
   },
   "kernels_config": {
    "python": {
     "delete_cmd_postfix": "",
     "delete_cmd_prefix": "del ",
     "library": "var_list.py",
     "varRefreshCmd": "print(var_dic_list())"
    },
    "r": {
     "delete_cmd_postfix": ") ",
     "delete_cmd_prefix": "rm(",
     "library": "var_list.r",
     "varRefreshCmd": "cat(var_dic_list()) "
    }
   },
   "types_to_exclude": [
    "module",
    "function",
    "builtin_function_or_method",
    "instance",
    "_Feature"
   ],
   "window_display": false
  }
 },
 "nbformat": 4,
 "nbformat_minor": 2
}
