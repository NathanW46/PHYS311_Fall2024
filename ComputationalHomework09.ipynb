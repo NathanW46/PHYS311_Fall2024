{
 "cells": [
  {
   "cell_type": "markdown",
   "metadata": {},
   "source": [
    "# Classical Mechanics I (PHYS 311)\n",
    "## Studio 11"
   ]
  },
  {
   "cell_type": "markdown",
   "metadata": {},
   "source": [
    "*Name:* \n",
    "\n",
    "*Date:* "
   ]
  },
  {
   "cell_type": "markdown",
   "metadata": {},
   "source": [
    "## Damped Harmonic Oscillators"
   ]
  },
  {
   "cell_type": "code",
   "execution_count": null,
   "metadata": {
    "scrolled": true
   },
   "outputs": [],
   "source": [
    "%pylab inline"
   ]
  },
  {
   "cell_type": "markdown",
   "metadata": {},
   "source": [
    "Code up the differential equation for a 2D harmonic oscillator using `odeint` like we've done a few times in this class. But now include a frictional term. So your system of first-order ODEs should be:\n",
    "\n",
    "$$\\dot{v}_x = - 2\\beta v_x - \\omega_x^2 x$$\n",
    "$$\\dot{x} = v_x$$\n",
    "$$\\dot{v}_y = - 2\\beta v_y - \\omega_y^2 y$$\n",
    "$$\\dot{y} = v_y$$\n",
    "\n",
    "When you code this up, make both $\\beta$, $\\omega_x$, $\\omega_y$ configurable arguments to your `ode_system` function (the same way we were handing it masses before). Let's assume $\\beta$ is the same for these two equations -- i.e. the frictional force here is *isotropic*. "
   ]
  },
  {
   "cell_type": "code",
   "execution_count": null,
   "metadata": {},
   "outputs": [],
   "source": []
  },
  {
   "cell_type": "markdown",
   "metadata": {},
   "source": [
    "Start with an *isotropic* oscillator ($\\omega_x=\\omega_y$). Using a $\\beta$ value of 0, animate the motion of a particle in 2D using the `plotSomeStuff` functions from the last few weeks, showing $x$ vs $y$.  Give it some nonzero initial velocity so that there's some initial angular momentum."
   ]
  },
  {
   "cell_type": "code",
   "execution_count": null,
   "metadata": {},
   "outputs": [],
   "source": []
  },
  {
   "cell_type": "markdown",
   "metadata": {},
   "source": [
    "## Lissajous Figures"
   ]
  },
  {
   "cell_type": "markdown",
   "metadata": {},
   "source": [
    "Try out some animations for different values of $\\omega_x$ and $\\omega_y$. Try to make a roughly circular orbit. "
   ]
  },
  {
   "cell_type": "code",
   "execution_count": null,
   "metadata": {},
   "outputs": [],
   "source": []
  },
  {
   "cell_type": "markdown",
   "metadata": {},
   "source": [
    "Now change the values of $\\omega_x$ and $\\omega_y$ such that they have some simple ratios. 2:1, 3:1, 3:2, etc."
   ]
  },
  {
   "cell_type": "code",
   "execution_count": null,
   "metadata": {},
   "outputs": [],
   "source": []
  },
  {
   "cell_type": "markdown",
   "metadata": {},
   "source": [
    "Now try to give it a non-rational number ratio. **Comment on the result**"
   ]
  },
  {
   "cell_type": "code",
   "execution_count": null,
   "metadata": {},
   "outputs": [],
   "source": []
  },
  {
   "cell_type": "markdown",
   "metadata": {},
   "source": [
    "Draw a lissajous figure with rational $\\omega$ ratios, but with a very small amount of damping (make $\\beta$ small but non-zero)."
   ]
  },
  {
   "cell_type": "code",
   "execution_count": null,
   "metadata": {},
   "outputs": [],
   "source": []
  },
  {
   "cell_type": "markdown",
   "metadata": {},
   "source": [
    "**EC(+0.5): Create a new `ode_system` that represents a 2D pendulum (i.e. has two degrees of freedom, i.e. can move in $\\theta,\\phi$) instead of a harmonic oscillator (i.e. the same as above but without the small angle approximation), and plot the motion of a damped pendulum. Remember that your coordinates now represent angles, so make sure you stay within $\\pi/2$ of the equilibrium point.**"
   ]
  },
  {
   "cell_type": "code",
   "execution_count": null,
   "metadata": {},
   "outputs": [],
   "source": []
  }
 ],
 "metadata": {
  "kernelspec": {
   "display_name": "Python 3",
   "language": "python",
   "name": "python3"
  },
  "language_info": {
   "codemirror_mode": {
    "name": "ipython",
    "version": 3
   },
   "file_extension": ".py",
   "mimetype": "text/x-python",
   "name": "python",
   "nbconvert_exporter": "python",
   "pygments_lexer": "ipython3",
   "version": "3.8.8"
  },
  "toc": {
   "base_numbering": 1,
   "nav_menu": {},
   "number_sections": true,
   "sideBar": true,
   "skip_h1_title": false,
   "title_cell": "Table of Contents",
   "title_sidebar": "Contents",
   "toc_cell": false,
   "toc_position": {},
   "toc_section_display": true,
   "toc_window_display": false
  },
  "varInspector": {
   "cols": {
    "lenName": 16,
    "lenType": 16,
    "lenVar": 40
   },
   "kernels_config": {
    "python": {
     "delete_cmd_postfix": "",
     "delete_cmd_prefix": "del ",
     "library": "var_list.py",
     "varRefreshCmd": "print(var_dic_list())"
    },
    "r": {
     "delete_cmd_postfix": ") ",
     "delete_cmd_prefix": "rm(",
     "library": "var_list.r",
     "varRefreshCmd": "cat(var_dic_list()) "
    }
   },
   "types_to_exclude": [
    "module",
    "function",
    "builtin_function_or_method",
    "instance",
    "_Feature"
   ],
   "window_display": false
  }
 },
 "nbformat": 4,
 "nbformat_minor": 2
}
