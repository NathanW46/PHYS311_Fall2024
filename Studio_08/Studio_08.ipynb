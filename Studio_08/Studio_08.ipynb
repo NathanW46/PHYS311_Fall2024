{
 "cells": [
  {
   "cell_type": "markdown",
   "metadata": {},
   "source": [
    "# Classical Mechanics I (PHYS 311)\n",
    "## Studio 8"
   ]
  },
  {
   "cell_type": "markdown",
   "metadata": {},
   "source": [
    "*Name:* \n",
    "\n",
    "*Date:* "
   ]
  },
  {
   "cell_type": "markdown",
   "metadata": {},
   "source": [
    "## Introduction to animations\n",
    "\n",
    "Over the next few studios, we're going to work on visualizing central force problems and orbits. To do that, we'll start off by learning how to do some simple animations in `matplotlib`."
   ]
  },
  {
   "cell_type": "code",
   "execution_count": 1,
   "metadata": {
    "scrolled": true
   },
   "outputs": [
    {
     "name": "stdout",
     "output_type": "stream",
     "text": [
      "Populating the interactive namespace from numpy and matplotlib\n"
     ]
    }
   ],
   "source": [
    "%pylab inline"
   ]
  },
  {
   "cell_type": "markdown",
   "metadata": {},
   "source": [
    "We're going to need some useful packages provided by matplotlib and to link a standard Linux/UNIX video-editing tool `ffmpeg` which is luckily installed on ISAAC for us."
   ]
  },
  {
   "cell_type": "code",
   "execution_count": 2,
   "metadata": {},
   "outputs": [],
   "source": [
    "import matplotlib.pyplot as plt\n",
    "from matplotlib.animation import FuncAnimation\n",
    "from IPython import display\n",
    "plt.rcParams['animation.ffmpeg_path'] = '/sw/cs400_centos7.3_acfsoftware/ffmpeg/4.0/centos7.3_binary/ffmpeg-4.0-64bit-static/ffmpeg'"
   ]
  },
  {
   "cell_type": "markdown",
   "metadata": {},
   "source": [
    "Here's a simple example of how to animate something. We need to define a function that given a frame number (i.e. a single point in time), gives back an object we can draw.\n",
    "\n",
    "We then hand that to this fancy function `FuncAnimation()` who will take care of the hard part. Then we just need to convert its output to something we can display in the notebook (using `ffmpeg`, under the hood.).\n",
    "\n",
    "For ease of use later, let's also wrap this in a function that can be called concisely."
   ]
  },
  {
   "cell_type": "code",
   "execution_count": 3,
   "metadata": {},
   "outputs": [
    {
     "data": {
      "text/html": [
       "<video width=\"432\" height=\"288\" controls autoplay loop>\n",
       "  <source type=\"video/mp4\" src=\"data:video/mp4;base64,AAAAHGZ0eXBNNFYgAAACAGlzb21pc28yYXZjMQAAAAhmcmVlAAAbXG1kYXQAAAKuBgX//6rcRem9\n",
       "5tlIt5Ys2CDZI+7veDI2NCAtIGNvcmUgMTU1IHIyOTAxIDdkMGZmMjIgLSBILjI2NC9NUEVHLTQg\n",
       "QVZDIGNvZGVjIC0gQ29weWxlZnQgMjAwMy0yMDE4IC0gaHR0cDovL3d3dy52aWRlb2xhbi5vcmcv\n",
       "eDI2NC5odG1sIC0gb3B0aW9uczogY2FiYWM9MSByZWY9MyBkZWJsb2NrPTE6MDowIGFuYWx5c2U9\n",
       "MHgzOjB4MTEzIG1lPWhleCBzdWJtZT03IHBzeT0xIHBzeV9yZD0xLjAwOjAuMDAgbWl4ZWRfcmVm\n",
       "PTEgbWVfcmFuZ2U9MTYgY2hyb21hX21lPTEgdHJlbGxpcz0xIDh4OGRjdD0xIGNxbT0wIGRlYWR6\n",
       "b25lPTIxLDExIGZhc3RfcHNraXA9MSBjaHJvbWFfcXBfb2Zmc2V0PS0yIHRocmVhZHM9MSBsb29r\n",
       "YWhlYWRfdGhyZWFkcz0xIHNsaWNlZF90aHJlYWRzPTAgbnI9MCBkZWNpbWF0ZT0xIGludGVybGFj\n",
       "ZWQ9MCBibHVyYXlfY29tcGF0PTAgY29uc3RyYWluZWRfaW50cmE9MCBiZnJhbWVzPTMgYl9weXJh\n",
       "bWlkPTIgYl9hZGFwdD0xIGJfYmlhcz0wIGRpcmVjdD0xIHdlaWdodGI9MSBvcGVuX2dvcD0wIHdl\n",
       "aWdodHA9MiBrZXlpbnQ9MjUwIGtleWludF9taW49MjUgc2NlbmVjdXQ9NDAgaW50cmFfcmVmcmVz\n",
       "aD0wIHJjX2xvb2thaGVhZD00MCByYz1jcmYgbWJ0cmVlPTEgY3JmPTIzLjAgcWNvbXA9MC42MCBx\n",
       "cG1pbj0wIHFwbWF4PTY5IHFwc3RlcD00IGlwX3JhdGlvPTEuNDAgYXE9MToxLjAwAIAAAAs/ZYiE\n",
       "AC///vau/MsrRwuVLh1Ze7NR8uhJcv2IMH1oAAADAADXFXgkyfqBSIEjtBqXHwUhmpyG4w/avom2\n",
       "lpjrSj7QA5Ls+Kp3dLtzU4jUYC+F+wl8tpOdKF1IXn6Mhwy+AchcyoIgAAAHnZws78FFMDLgpK5/\n",
       "8r/7Q/qFTUtXGkGSeBWkRlz6C8Elx8WwZ37SsnoK8Ez7oI0X8IvvVTk1lZVcpisfiVRQXYrEqLIf\n",
       "Ggn6Jw5II7KT6MXXO51lM9Sb3JhY5ON++P9vx392IXa+BgQR2bZ/yTcJMXeCwXEpLopc3HPxgq6R\n",
       "+OyyU9u9uM/jrnuPdFwoa07Lcl5o1E5RtgdsAAERAo1mE6AgFCUhPDTXR9xuoRatzOgqNvNRoTki\n",
       "JdeohsoDt45e0rS5XeYeyfKGHXS4ebuVjmW/GB49riQl7nCUBL0l93Jqzr7Uy8HiwKxoqPT/2UeN\n",
       "oQeg//hy7rWme/LFlClpIYAPb7P8FNTc1YH6eL6OK410IbPOgALyMxrtov4Bxg17k5NspbzlSWjb\n",
       "3p7/xzLmnXNOn1G+86yumoEXfzlABXgdFivGi8au2qCgDNiVtk7JfeGJ5ZNrqzJSwQCM0avBxoCk\n",
       "9UIT2hnqjKGdqIAyzhdZHUduAkSIXmt38VrpI99IZHjAr0BlIaXgrjy0nVnJyEFYEKugUpLfWqe0\n",
       "+ldi6rg8zihNyeYHJ2OdXHZBCAk9g7OoLYKdWIRcx7PpAAjsks3OGeh2qDyHLVHTADTAVqBYn3rn\n",
       "WtbVyJz8ihYNJrmFE3yUWIp/+JrehPrUP5TeAc4Mz1eInrmP0QSpQVDsHq9PEc5Ffmt4cGDv0kG3\n",
       "Yj1YT5obdGS9hYicdK4Kjl3ed/7Pqm7LiCzbhVak4T4RQLABNSyA81X6YeV6WBzWTeDP8q/TISHT\n",
       "3nBtYq2tcUg6tix+K5swX4kJq81rvwInStQBFZtdMwZFQiFmFTycRCMubY6oxQ0SDF4KtTI9Lh2G\n",
       "CWWOD6lzekMIGoa9rICijyIOKWQHbjWOlZOlxTwRo2txkFTVy/jNMUQhWJlMmIUnpPfuoCsTAwna\n",
       "AAlYJQFMAoStPe+s6yq3RAeyTb9OS+3Mk/G+dfuy5OXBYTktXPS82GhxsazJnXzb3rT0fCPYOe8I\n",
       "YN+6UZ1D/18VzaF3oDZGnog6gQPZwFeKBIH1YSNwBfCU2N6DvyA/at9fJlyHNFhGqvkEZy8CXPJh\n",
       "0iBt2uxXgpxgggy5ydFmSqwsTrr0PnMON2tHRA8bTKAMOC2zfSKsIMVgS8BZLe+eWF8E9WQU71ar\n",
       "y5z4gCKw2b1F9Jac0pXYNSWqfXaD62APILx8/T2EZ5C7blu4ffItoQ8AnL+ssOiVK3a+bQyevBME\n",
       "i9pF6yZyo6JaFqOiDgCsZwdDFKxR8QAM/8Zp5VeFkQDWnxAOlKTJAQj3IR1FaFQuyVwE64pRAAa9\n",
       "n50HIWgzkblGLJrrTxd198bWl8+dLshIaF4QxE3n5Ycacdm21kVJe8GsUJGiI/p7kbZIn6iGVfXf\n",
       "rzJH5Tc+6uZFAKbghPHbWAFWqYmWUcRA7eJ6HhuEnaTXtnP75ryu+E5TPEUxfJuof8Hu2nmPR5k9\n",
       "gFNbFarARQBPIOPiktcEoaGl33Na6aJ0v33k2IqqXPro86w9d3aOy+tQDCVsmSHy66jRve81sABq\n",
       "BBZTHiiT/ogrNhu/fJ56WSHmPHEJKIxV4HqG+yUZJpvKDoMrNS8QDUVhyVJ1JyxYvkpthG2u6gb1\n",
       "PL7ZrU1KtSYRdwtyoEauGu+HmeRvIl8uJGi9DA0LaPFIouHIIq5qOXge6wM9tC9JAyKWCzit1hne\n",
       "415DPEZbvBlhW+upRpuzNp7kDyd//PJ/X5GcoimwsGBge6NSHR4xBpgG+e0UgZGQ5zGH2M3Gq2Hb\n",
       "8LbsiKDZ7zyi25IBdj3KQxkN15XGPYlgrsLjCWw+lIzOhwkdCOuo8cW6WyldPsnfBBZ040WmkMaT\n",
       "KxmpBd8HhkpTvpLGHiseFTpYa17i+YTN1tTKl/O3CBGrO9etOOOJ/3spbcOfolMxxGVFyGwis2zb\n",
       "nIIMfw0CE2dj05xrerTZVE9GjRYTO3E8hc6zN6zfi8zu98q66wl7Bec+EICj2HB2gbahlNyar9nw\n",
       "STgISuS5w4+tDDcaJ//9k98plXlkLNzPY+HuqaFrCS+6mCqfNu631/+4DkjoXOu+F/uiZpYkB43+\n",
       "twCLkNzo/uaUMO53DQl1I9pK7+aKDc09QM1yNEpKe0S+RrRei5EGJA2Ca1wcHUbEXeZ+2ARGiE6m\n",
       "8/PmgD9K1rw2wGzOKAczeWNFK2p1Gi8s2qJsjvugeJSHEPhLEGmoMER8Iqt8Es0rYmxpu1p7jDdn\n",
       "0zEqCEjvR1HMTHUgjYwODqkF2/xUvDs2L7918DZlPtK/3yqswlbvllT5Gk913rGRNveZdGaHA6hP\n",
       "G/YQKPAIal3IBa0lH3MI+fs+WhntkDpdKlT4+rQoOzrMq6uS03zVzyH95BFV4ZITBh2g+TXbbx4Y\n",
       "eLPLu9OZxeUaekaIcTPmmpv3wrGQTsONCQkEiv7vICPMYIOOfHM7wAyX7eLPCLsBoUN6qQiFsuzi\n",
       "g8dqBDHYkcON+Sj/fmG0VTNyEsXvAb6O4VyDbfuBJfh7HcldWgD8EYIcUSPtYgTpmlb1On1lzBBM\n",
       "UYeTWqlpg0adsfRk0CFCi12WSaoxVEdimztVCR9vrtpOgP59Te5AjKfD5vlWtI9O/67vi6vzyYSK\n",
       "0k0IvkjtcFKkty17/IDZ/Qrr8qlpi613A3zhW+U9aMHsHcxFt1JlkuUJNBB3YCcwAVtF4XSg9Iq/\n",
       "NqkD4rKlelmp/9nQAMgwxMCLnztmZGsdpay2Vm3hHNxxCpOUm0atAzuWR0i5h/ePpoJMp9cRVyxv\n",
       "ntujQG/9SY9w5n/aGsN1nIbenmuY8hQw64rjcLPvibbuKUNJo81lcDxiQPwK4K/yyShAld0yxj5n\n",
       "eOV3ZUrrO5d/dkJGmG8X7wxNBTUkAMDad1+xRe0Gwezk013Sq9wo85Dr3dcyFki6nALS0HBIOLln\n",
       "rpDJl13vsqbR0OTyENGBYMs6MCOZ363OfV+/m3W/u3zRF86HY8Iw5OfgEnK7O2gv67EYWRbN6C8D\n",
       "dm+y4sNu3I49Bl5Y6fvYPrHeS5g21HccQwnRFeaP5oQs1tZf5oKRoErTXZKUklDyK3IgcdlboR/K\n",
       "IC1bCocrY9pVBriQlMthSh78nUpcm85nEddYcWwwgZzYbaC0VrvSSBu5n3J8J1RgcRT2LC1fbruG\n",
       "yFbk4gTJkAihdByHQX+IbYbkLC2cubi6U7ifImDIQvrO4UNvd7t7YVFg3NpsRumICrpncAcrSF8q\n",
       "qFFkuxUouJ5a36Rl6ctFmWHOiqZmkfeVznZGTVviHzWkJ9XbhdVNNqisVx3ngEu47wbwIUp8OpCS\n",
       "BqU56LdZmLP+htH6ti9uTnprzM8vI4bOQWoiCqij6DJiWU9qOg9dB80p21RQ35plohTDerKoeVQh\n",
       "ozAT1zYNmVyX5WP2SMILirA2MmoEnLaPWecPA8QikIgGGxDQQVM0ZrIcqAz9O71mxO6Ekp4WzZGU\n",
       "Hpkhnb6EqLVRXpg9HV8DI0XsJZPlIQokb9KiOzaU8EPZr7zfW0mYaogGW2OjWBZUnK6W90ocPBet\n",
       "D2unbQrhQSyiH+hb3pL0Twd9kq/+/qhTu84iJ5cLm82oqyAoniBf5wYBPg8sNp+7z9tHjQ3xiWpK\n",
       "7VZ4pSTZgrxwCBa5WZHzH/3nGQ4DhP7rOzIv40zXGYPfIvdrj/xvFPfDw+lhTEblVU6FrE4enx44\n",
       "cdpYwcIRKhutyjeNDQegpKFEAwwjaGoADAkAAAEZQZokbEL//oywB8oTmAMxB/4XIlw/lyHTIY7R\n",
       "zqmuyAYHwZo0Ih4wAYm/jBUu6wBkaSvMnLbP5+BSgkRl4rT3827tqmWI/UQdxhB6aBHxsTVUpGyc\n",
       "XDKjM6DiWapaYtuJyLVKj0vBWeH4Fcp3UPFGkaqhN664cmoUNnf8xq4JaXB/5aaHW8ticgjmZSny\n",
       "r07XVJIg/woUYoHLfhfn9X1ZSksTKXW1XNS4OrNJ5AcI+R9/dehuMejyflgdwQCSXE6tJUU7vbFS\n",
       "7w1fKutM7t9VV4V2Z24KI4Hz1N/quGgYupSR23f1X7deZANoqSrrRTocMiUESif031VLnGqEhOsv\n",
       "oUkSvqUatIpxKvKx2ggSSsbTJLDHNdwsAl4AAABFQZ5CeIR/BTPeF9B0wB5ptlwAAGkW8o3xI4AG\n",
       "x2YAh61KoHMTCFNmILxNmvppBsp9w3taUGjql4v2z28ow97O1O0dwKSBAAAAMAGeYXRH/wfilI96\n",
       "LdkhBPTAAAADAE7PetSqDYxwv7+tRzwka7k2LI7md7pD+kuE5AAAAC4BnmNqR/8H6jSmlFzOsHAA\n",
       "AAMAAsS1TLbxMYIsNnsoUfWv6nstnLwJUQC/mRG7AAAATEGaZkmoQWiZTBTwz/6eEH/ixMGhyIpW\n",
       "uqhgrafnJgAAAwC17ttUy8yJSECeZe47E6gFFOY5ksMWtBFDYgjVqALk0SzxKLLvvJ/M44EAAAAr\n",
       "AZ6Fakf/B+SKMopKpBcAAAMCENVMtvjf6zfji9eSkRKOpT2og1S45gLMHQAAABtBmopJ4QpSZTAh\n",
       "n/6eEAAnta+ssYIPshUA6YEAAAAcQZ6oRTRMI/8BIlFRgTOYhZGBuTOYDZFdTBeEwAAAABUBnsd0\n",
       "R/8Bz4p1BC6CGFbKNdIIrZgAAAAXAZ7Jakf/AdCAEQ8WCrkmZiyoh9gjJO0AAAAaQZrOSahBaJlM\n",
       "CF///oywAChHTH0M+P/XMSsAAAAbQZ7sRREsI/8BJioEJMqBipQzJXYsrD5sLAckAAAAGAGfC3RH\n",
       "/wHPinUEMhOkbIS4rQ97hA7ZgQAAABgBnw1qR/8B0IARDxYKM4Ci/B2CKeBHR00AAAAjQZsSSahB\n",
       "bJlMCF///oywACk1Mk8bSAILch1z/T8mUp3uY0EAAAAcQZ8wRRUsI/8BJioEJMqEA+8Vw8IbHAq+\n",
       "gxJJDwAAABgBn090R/8Bz4p1BDJFpz0vF8UCpNHXkyoAAAAYAZ9Rakf/AdCAEQ8WKwOhnuOSFEIL\n",
       "BDSVAAAAGEGbVUmoQWyZTAhf//6MsAApNRpO8h0HdAAAABlBn3NFFSwj/wEmKgQkyoQD7x1SOIHd\n",
       "qCO4AAAAFQGflGpH/wHQgBEPFi4xzqyHt2ETkwAAACFBm5lJqEFsmUwIX//+jLAAKlUxHFTXYJEZ\n",
       "/V9hobKF+cAAAAAaQZ+3RRUsI/8BJioEJMqGw8sDgKxwxbCwIeEAAAAWAZ/WdEf/Ac+KdQQycqkP\n",
       "n7jb9oavSQAAABcBn9hqR/8B0IARDxZPA6GfsD7Xmkq2YAAAABpBm9xJqEFsmUwIX//+jLAAKlUZ\n",
       "K2nrWPgkYQAAABlBn/pFFSwj/wEmKgQkyobDzCw9yKtvLggoAAAAFQGeG2pH/wHQgBEPFk8D9S6Y\n",
       "SQqv0wAAABtBmh1JqEFsmUwIX//+jLAAKlTJOCAFs0o5CpkAAAAdQZogSeEKUmUwIX/+jLAAK3UO\n",
       "T+lmCb0Uuf3qkl4AAAAbQZ5eRTRMI/8BJgpyMhhicqVRGcxQNhVo6epOAAAAFwGef2pH/wHQgBEP\n",
       "FnYxs5B0DUBfwtsxAAAAIUGaYkmoQWiZTBTwv/6MsAArjCikvtcxBjOZ5mCPkVSiPgAAABkBnoFq\n",
       "R/8B0O94ijVTgPZchykl+uaH9yPRAAAAHEGahknhClJlMCF//oywACt1Jkb/+v9DqkeYiYAAAAAc\n",
       "QZ6kRTRMI/8BJgpyMhhiclQ49K7Fj5UAOnqTgQAAABgBnsN0R/8Bz4p1BDKXcrEiXFZrE8IHbMEA\n",
       "AAAYAZ7Fakf/AdCAEQ8WcwaxJLsKPkp/n1nxAAAAJUGaykmoQWiZTAhf//6MsAArvMuY2nn6N+c0\n",
       "xSyG9MLCNmDpcXEAAAAcQZ7oRREsI/8BJioEJMqJnLYNppKS8zejkGckzAAAABkBnwd0R/8Bz4p1\n",
       "BDKXpGKrk0QB6e0vu7PwAAAAGAGfCWpH/wHQgBEPE8WcMI3Yhnx2gjo7oQAAACJBmwxJqEFsmUwU\n",
       "TC///oywABZKtvndoHokHyDD824E5p7tAAAAGQGfK2pH/wHQ73iKNNsCJlOHQ51avmAtbY4AAAAr\n",
       "QZsvSeEKUmUwIX/+jLAAFlCuqVrPBADVDrqwgvAFSlrd67yPC9yNg5JSLwAAABxBn01FNEwj/wEm\n",
       "CnIyGFNZcrXo4z+rXzaQtigRAAAAFwGfbmpH/wHQgBEPE8e749Y6tSG/e6khAAAAGUGbc0moQWiZ\n",
       "TAhf//6MsAAWTjXPJIeqqFgAAAAaQZ+RRREsI/8BJioEJMpNfeG8l82mwodTD/AAAAAXAZ+wdEf/\n",
       "Ac+KdQQu2hnk2jGhRX73TsEAAAAXAZ+yakf/AdCAEQ8TxqZJ7ldpOQI3h8AAAAAiQZu0SahBbJlM\n",
       "CGf//p4QABY/6P0j5+Pq+o7CPHooIiJFJAAAACFBm9hJ4QpSZTAhn/6eEAALDWN/Ph+9/JgINRrR\n",
       "oqJRxMEAAAAbQZ/2RTRMI/8BJgpyMhhLcMgIpnMU7hVo6epOAAAAFwGeFXRH/wHPinUELNtuFScb\n",
       "alCB94eBAAAAGQGeF2pH/wHQgBEPEluUQU6BznbVS/4WpIEAAAAiQZocSahBaJlMCF///oywAAs3\n",
       "MuQKd6raQgBakCqokaJ9WAAAAB1BnjpFESwj/wEmKgQkyi2xvUGVFFH4Yk8Hgka9MQAAABgBnll0\n",
       "R/8Bz4p1BCza5yhZphTDsEArokgAAAAZAZ5bakf/AdCAEQ8SWswoRuw7lquA3v1TQQAAAB5BmkBJ\n",
       "qEFsmUwIX//+jLAACt1G8cAG7mXM47B+3EEAAAAbQZ5+RRUsI/8BJioEJMotAJpo3psZOYOjqYck\n",
       "AAAAGAGenXRH/wHPinUELNF5k8SNhps0wgdZQAAAABgBnp9qR/8B0IARDxJRwLxJLsNOSn+fWfEA\n",
       "AAAmQZqESahBbJlMCF///oywAArvrekzT5/KoVN4G3zUJna6bDyEmgEAAAAcQZ6iRRUsI/8BJioE\n",
       "JMotAJqwYtsCz6vsNkYEFQAAABgBnsF0R/8Bz4p1BCzRaw0g4mtWZ9W9k4AAAAAXAZ7Dakf/AdCA\n",
       "EQ8SUfsdPeVSvfiA2/0AAAAgQZrGSahBbJlMFEwv//6MsAAFd5lyLEfdEgAC0k/NHVUAAAAYAZ7l\n",
       "akf/AdDveIo0ewFGdwdixQP6sVmBAAAAHEGa6UnhClJlMCF//oywAAVL0BjzwAAC1LO+nTEAAAAZ\n",
       "QZ8HRTRMI/8BJgpyMhhHSh0b92xe8nDAgAAAABUBnyhqR/8B0IARDxGcxoPt2kSC544AAAAdQZst\n",
       "SahBaJlMCF///oywAAVMLFLWQttj8nlBR40AAAAaQZ9LRREsI/8BJioEJModKHP8cBzwxbCwIeAA\n",
       "AAAXAZ9qdEf/Ac+KdQQr0m1z+SKO6GiY84AAAAAXAZ9sakf/AdCAEQ8RnF/8M/ce15pKtmEAAAAY\n",
       "QZtwSahBbJlMCF///oywAAUmo3s2h07pAAAAGEGfjkUVLCP/ASYqBCTKHNB0b+jC0tQSzQAAABUB\n",
       "n69qR/8B0IARDxGX4AbP08kKr9IAAAAjQZuxSahBbJlMCGf//p4QAApH9H06SZ+ZBXf9LSxVdfpV\n",
       "EXAAAAAeQZvVSeEKUmUwIX/+jLAACl8y485+cNKw47EYeR5ZAAAAHUGf80U0TCP/ASYKcjIYSuyW\n",
       "KNs5dP4X81+N4j+SAAAAGQGeEnRH/wHPinUELLnbBFnxAV45kWqidSAAAAAbAZ4Uakf/AdCAEQ8S\n",
       "P8hrmJo6k0p/Ij7tAXuBAAAAGkGaGUmoQWiZTAhf//6MsAAKBUPxon7Q0fPSAAAAG0GeN0URLCP/\n",
       "ASYqBCTKKvG97b02MzEHR1MOSQAAABgBnlZ0R/8Bz4p1BCyweZCkjYbKYAIHWUEAAAAYAZ5Yakf/\n",
       "AdCAEQ8SNswrIl2GzBaCPrPgAAAAHEGaXUmoQWyZTAhf//6MsAAKBUDIG6EAJUbQzUkAAAAZQZ57\n",
       "RRUsI/8BJioEJMorAjYGbcRgd2OI7gAAABYBnpp0R/8Bz4p1BCywa+hXBIvdhhT5AAAAFQGenGpH\n",
       "/wHQgBEPEjdQNViFRISq2wAAAB1BmoFJqEFsmUwIT//98QAAvtNXyJ3tH/2GND0l1QAAAB1Bnr9F\n",
       "FSwj/wEmKgQkykgI/Uh7XtWF9tHxxjXjlQAAABcBnt50R/8Bz4p1BCyu5yqT4UN1rAgdTQAAABkB\n",
       "nsBqR/8B0IARDxN/Vw3lqNVoR4IROo+AAAAAHUGaw0moQWyZTBRMf/yEAASUHdPyuA2avHNwvZz9\n",
       "AAAAGQGe4mpH/wHQ73iKNNAahWsOPk7lzdkCy+8AAAeubW9vdgAAAGxtdmhkAAAAAAAAAAAAAAAA\n",
       "AAAD6AAAB9AAAQAAAQAAAAAAAAAAAAAAAAEAAAAAAAAAAAAAAAAAAAABAAAAAAAAAAAAAAAAAABA\n",
       "AAAAAAAAAAAAAAAAAAAAAAAAAAAAAAAAAAAAAAAAAgAABth0cmFrAAAAXHRraGQAAAADAAAAAAAA\n",
       "AAAAAAABAAAAAAAAB9AAAAAAAAAAAAAAAAAAAAAAAAEAAAAAAAAAAAAAAAAAAAABAAAAAAAAAAAA\n",
       "AAAAAABAAAAAAbAAAAEgAAAAAAAkZWR0cwAAABxlbHN0AAAAAAAAAAEAAAfQAAACAAABAAAAAAZQ\n",
       "bWRpYQAAACBtZGhkAAAAAAAAAAAAAAAAAAAyAAAAZABVxAAAAAAALWhkbHIAAAAAAAAAAHZpZGUA\n",
       "AAAAAAAAAAAAAABWaWRlb0hhbmRsZXIAAAAF+21pbmYAAAAUdm1oZAAAAAEAAAAAAAAAAAAAACRk\n",
       "aW5mAAAAHGRyZWYAAAAAAAAAAQAAAAx1cmwgAAAAAQAABbtzdGJsAAAAs3N0c2QAAAAAAAAAAQAA\n",
       "AKNhdmMxAAAAAAAAAAEAAAAAAAAAAAAAAAAAAAAAAbABIABIAAAASAAAAAAAAAABAAAAAAAAAAAA\n",
       "AAAAAAAAAAAAAAAAAAAAAAAAAAAAAAAAGP//AAAAMWF2Y0MBZAAe/+EAGGdkAB6s2UGwloQAAAMA\n",
       "BAAAAwGQPFi2WAEABmjr48siwAAAABx1dWlka2hA8l8kT8W6OaUbzwMj8wAAAAAAAAAYc3R0cwAA\n",
       "AAAAAAABAAAAZAAAAQAAAAAUc3RzcwAAAAAAAAABAAAAAQAAAwBjdHRzAAAAAAAAAF4AAAABAAAC\n",
       "AAAAAAEAAAUAAAAAAQAAAgAAAAABAAAAAAAAAAEAAAEAAAAAAQAAAwAAAAABAAABAAAAAAEAAAUA\n",
       "AAAAAQAAAgAAAAABAAAAAAAAAAEAAAEAAAAAAQAABQAAAAABAAACAAAAAAEAAAAAAAAAAQAAAQAA\n",
       "AAABAAAFAAAAAAEAAAIAAAAAAQAAAAAAAAABAAABAAAAAAEAAAQAAAAAAgAAAQAAAAABAAAFAAAA\n",
       "AAEAAAIAAAAAAQAAAAAAAAABAAABAAAAAAEAAAQAAAAAAgAAAQAAAAABAAACAAAAAAEAAAQAAAAA\n",
       "AgAAAQAAAAABAAADAAAAAAEAAAEAAAAAAQAABQAAAAABAAACAAAAAAEAAAAAAAAAAQAAAQAAAAAB\n",
       "AAAFAAAAAAEAAAIAAAAAAQAAAAAAAAABAAABAAAAAAEAAAMAAAAAAQAAAQAAAAABAAAEAAAAAAIA\n",
       "AAEAAAAAAQAABQAAAAABAAACAAAAAAEAAAAAAAAAAQAAAQAAAAABAAACAAAAAAEAAAUAAAAAAQAA\n",
       "AgAAAAABAAAAAAAAAAEAAAEAAAAAAQAABQAAAAABAAACAAAAAAEAAAAAAAAAAQAAAQAAAAABAAAF\n",
       "AAAAAAEAAAIAAAAAAQAAAAAAAAABAAABAAAAAAEAAAUAAAAAAQAAAgAAAAABAAAAAAAAAAEAAAEA\n",
       "AAAAAQAAAwAAAAABAAABAAAAAAEAAAQAAAAAAgAAAQAAAAABAAAFAAAAAAEAAAIAAAAAAQAAAAAA\n",
       "AAABAAABAAAAAAEAAAQAAAAAAgAAAQAAAAABAAACAAAAAAEAAAUAAAAAAQAAAgAAAAABAAAAAAAA\n",
       "AAEAAAEAAAAAAQAABQAAAAABAAACAAAAAAEAAAAAAAAAAQAAAQAAAAABAAAFAAAAAAEAAAIAAAAA\n",
       "AQAAAAAAAAABAAABAAAAAAEAAAUAAAAAAQAAAgAAAAABAAAAAAAAAAEAAAEAAAAAAQAAAwAAAAAB\n",
       "AAABAAAAABxzdHNjAAAAAAAAAAEAAAABAAAAZAAAAAEAAAGkc3RzegAAAAAAAAAAAAAAZAAADfUA\n",
       "AAEdAAAASQAAADQAAAAyAAAAUAAAAC8AAAAfAAAAIAAAABkAAAAbAAAAHgAAAB8AAAAcAAAAHAAA\n",
       "ACcAAAAgAAAAHAAAABwAAAAcAAAAHQAAABkAAAAlAAAAHgAAABoAAAAbAAAAHgAAAB0AAAAZAAAA\n",
       "HwAAACEAAAAfAAAAGwAAACUAAAAdAAAAIAAAACAAAAAcAAAAHAAAACkAAAAgAAAAHQAAABwAAAAm\n",
       "AAAAHQAAAC8AAAAgAAAAGwAAAB0AAAAeAAAAGwAAABsAAAAmAAAAJQAAAB8AAAAbAAAAHQAAACYA\n",
       "AAAhAAAAHAAAAB0AAAAiAAAAHwAAABwAAAAcAAAAKgAAACAAAAAcAAAAGwAAACQAAAAcAAAAIAAA\n",
       "AB0AAAAZAAAAIQAAAB4AAAAbAAAAGwAAABwAAAAcAAAAGQAAACcAAAAiAAAAIQAAAB0AAAAfAAAA\n",
       "HgAAAB8AAAAcAAAAHAAAACAAAAAdAAAAGgAAABkAAAAhAAAAIQAAABsAAAAdAAAAIQAAAB0AAAAU\n",
       "c3RjbwAAAAAAAAABAAAALAAAAGJ1ZHRhAAAAWm1ldGEAAAAAAAAAIWhkbHIAAAAAAAAAAG1kaXJh\n",
       "cHBsAAAAAAAAAAAAAAAALWlsc3QAAAAlqXRvbwAAAB1kYXRhAAAAAQAAAABMYXZmNTguMTIuMTAw\n",
       "\">\n",
       "  Your browser does not support the video tag.\n",
       "</video>"
      ],
      "text/plain": [
       "<IPython.core.display.HTML object>"
      ]
     },
     "metadata": {},
     "output_type": "display_data"
    }
   ],
   "source": [
    "def plotSomeStuff(x_array, y_array, nframes=100, ax = None, fig = None):\n",
    "    if ax == None or fig == None:\n",
    "        fig, ax = plt.subplots()\n",
    "        ax.set_xlim(-10,10)\n",
    "        ax.set_ylim(-10, 10)\n",
    "\n",
    "    phi = linspace(0,2*np.pi,100)\n",
    "\n",
    "    marker1, = ax.plot([],\"o\") # Let's create an empty plot that has a circle marker\n",
    "    orbit1, = ax.plot([]) # Let's create an empty plot to eventually become an orbit line\n",
    "\n",
    "    def animate(frame_num):\n",
    "        \"\"\"\n",
    "        \"\"\"\n",
    "        x = x_array[frame_num]\n",
    "        y = y_array[frame_num]\n",
    "        \n",
    "        # Let's put a marker at the last position of these arrays.\n",
    "        # We're using set_data which is updating the data stored in the marker1 object.\n",
    "        marker1.set_data([x,y])\n",
    "        return\n",
    "\n",
    "    anim = FuncAnimation(fig, animate, frames=nframes, interval=20)\n",
    "    video = anim.to_html5_video()\n",
    "    html = display.HTML(video)\n",
    "    display.display(html)\n",
    "    plt.close()\n",
    "\n",
    "nframes = 100\n",
    "tmax = 10\n",
    "t_array = linspace(0,tmax,nframes)\n",
    "r = 2\n",
    "x_array = r*cos(t_array/10 * 2 * np.pi)\n",
    "y_array = r*sin(t_array/10 * 2 * np.pi)\n",
    "\n",
    "# Now we can run the function\n",
    "plotSomeStuff(x_array,y_array,nframes)"
   ]
  },
  {
   "cell_type": "markdown",
   "metadata": {},
   "source": [
    "Now copy the code above to below, and try to get an animation that shows the marker moving in a circle, but also where it's been at earlier times. I've already created an object `orbit1` for you to fill up. Inside `animate`, the `x` and `y` arrays already store this information, so just use `set_data` on the `orbit1` object to get it to trace out the path of this thing.\n",
    "\n",
    "For this, you'll need to recall how access the first N elements of a numpy array."
   ]
  },
  {
   "cell_type": "code",
   "execution_count": null,
   "metadata": {
    "scrolled": true
   },
   "outputs": [],
   "source": []
  },
  {
   "cell_type": "markdown",
   "metadata": {},
   "source": [
    "Now we can use your new `plotSomeStuff()` function to plot some more things."
   ]
  },
  {
   "cell_type": "markdown",
   "metadata": {},
   "source": [
    "## Using animations for visualizing physics\n",
    "\n",
    "Now that we have that tool, let's use this for some physics. Recall that we have Newton's 2nd law in polar coordinates:\n",
    "\n",
    "$$m(\\ddot r - r \\dot \\phi^2) = \\sum F_r$$\n",
    "$$m(r\\ddot \\phi + 2 \\dot r \\dot \\phi) = \\sum F_\\phi = 0$$\n",
    "\n",
    "where $F_\\phi$ is zero for central forces. This formulation was useful for calculating by hand since it gets into a basis where the Force is \"1-dimensional\". However, the computer doesn't care! It'll solve it in whatever basis we want. So we can go back and define our 2D problem in cartesian coordinates.\n",
    "\n",
    "$$m\\ddot x = \\sum F_x $$\n",
    "$$m\\ddot y = \\sum F_y $$\n",
    "\n",
    "We know how to solve systems of ODEs from past studios, so let's code up an `odeint` implementation of this. \n",
    "\n",
    "Let's start off with $F_r=-r$ to model the motion of a 2-dimensional harmonic oscillator."
   ]
  },
  {
   "cell_type": "code",
   "execution_count": null,
   "metadata": {},
   "outputs": [],
   "source": [
    "from scipy.integrate import odeint"
   ]
  },
  {
   "cell_type": "code",
   "execution_count": null,
   "metadata": {},
   "outputs": [],
   "source": [
    "\n",
    "def ode_system(inputs,t,m):\n",
    "    \"\"\"\n",
    "    This function represents a series of first order ODEs.\n",
    "    \n",
    "    Return: List of expressions for the first time derivative of the inputs, in order.\n",
    "    \"\"\"\n",
    "    \n",
    "    # Parse the inputs list to positions x,y and vector magnitudes xdot,ydot\n",
    "    [x,y,xdot,ydot] = inputs\n",
    "    \n",
    "    r = np.hypot(x,y) # This is a handy function that computes sqrt(x^2+y^2) for you\n",
    "    phi = np.arctan2(y,x) # And this calculates the polar angle of our vector\n",
    "\n",
    "    # 2D Hooke's law as a central force\n",
    "    Fr = -r\n",
    "    Fx = Fr*np.cos(phi)\n",
    "    Fy = Fr*np.sin(phi)\n",
    "    \n",
    "    # Return the expressions for the time-derivatives of the inputs.\n",
    "    return [xdot,ydot,Fx/m,Fy/m]\n",
    "\n",
    "\n",
    "nframes = 100\n",
    "tmax = 10\n",
    "t_array = linspace(0,tmax,nframes)\n",
    "\n",
    "# Solve the ODEs with an initial condition of:\n",
    "# x0 = 2, y0 = 2, xdot0 = 0, ydot0 = 0\n",
    "solutions = odeint(ode_system, (2,2,0,0), t_array, args=(0.1,))\n",
    "\n",
    "x_array = solutions[:,0]\n",
    "y_array = solutions[:,1]\n",
    "\n",
    "# Now we can run the function\n",
    "plotSomeStuff(x_array,y_array,nframes)"
   ]
  },
  {
   "cell_type": "markdown",
   "metadata": {},
   "source": [
    "Now solve the same system, but releasing the particle from some point in this space, but now with a nonzero initial velocity."
   ]
  },
  {
   "cell_type": "code",
   "execution_count": null,
   "metadata": {},
   "outputs": [],
   "source": []
  },
  {
   "cell_type": "markdown",
   "metadata": {},
   "source": [
    "Now let's switch from a harmonic oscillator force to that of gravity. Create a new `ode_system()` and instead of `Fr=-r`, make the force `Fr=-1/(r*r)`. Then we'll be playing with an inverse square force. Do this and draw an example trajectory, maybe with initial velocity of zero."
   ]
  },
  {
   "cell_type": "code",
   "execution_count": null,
   "metadata": {},
   "outputs": [],
   "source": []
  },
  {
   "cell_type": "markdown",
   "metadata": {},
   "source": [
    "**EC(+0.5): Make a plot of the gravitational potential $1/r^2$ and place an animated marker on the value of r of the system and watch it evolve. i.e. Put a marker at V(r(t) ). The marker should appear to fall into the potential well.**"
   ]
  },
  {
   "cell_type": "code",
   "execution_count": null,
   "metadata": {},
   "outputs": [],
   "source": []
  },
  {
   "cell_type": "markdown",
   "metadata": {},
   "source": [
    "Play with the parameters to find a closed orbit. Some sort of ellipse. Notice the time evolution of the orbit. See how there are portions of the orbit where the particle moves faster? Try an additional set of initial conditions and come up with another closed orbit. "
   ]
  },
  {
   "cell_type": "code",
   "execution_count": null,
   "metadata": {
    "scrolled": false
   },
   "outputs": [],
   "source": []
  },
  {
   "cell_type": "code",
   "execution_count": null,
   "metadata": {},
   "outputs": [],
   "source": []
  },
  {
   "cell_type": "markdown",
   "metadata": {},
   "source": [
    "Now increase the kinetic energy (i.e. increase the initial total speed) and watch the orbit become unbounded. Show a situation where the particle gets slingshotted off to infinity."
   ]
  },
  {
   "cell_type": "code",
   "execution_count": null,
   "metadata": {},
   "outputs": [],
   "source": []
  },
  {
   "cell_type": "markdown",
   "metadata": {},
   "source": [
    "**EC(+1): For a bounded orbit, draw the area of the ellipse swept out in some time $\\Delta t$. Show how this area is a constant (because angular momentum is conserved) and therefore demonstrate Kepler's second law. (Basically draw the blue triangle shown in the animation at https://en.wikipedia.org/wiki/Kepler%27s_laws_of_planetary_motion#Second_law)**"
   ]
  },
  {
   "cell_type": "code",
   "execution_count": null,
   "metadata": {},
   "outputs": [],
   "source": []
  },
  {
   "cell_type": "code",
   "execution_count": null,
   "metadata": {},
   "outputs": [],
   "source": []
  }
 ],
 "metadata": {
  "kernelspec": {
   "display_name": "Python 3",
   "language": "python",
   "name": "python3"
  },
  "language_info": {
   "codemirror_mode": {
    "name": "ipython",
    "version": 3
   },
   "file_extension": ".py",
   "mimetype": "text/x-python",
   "name": "python",
   "nbconvert_exporter": "python",
   "pygments_lexer": "ipython3",
   "version": "3.6.10"
  },
  "toc": {
   "base_numbering": 1,
   "nav_menu": {},
   "number_sections": true,
   "sideBar": true,
   "skip_h1_title": false,
   "title_cell": "Table of Contents",
   "title_sidebar": "Contents",
   "toc_cell": false,
   "toc_position": {},
   "toc_section_display": true,
   "toc_window_display": false
  },
  "varInspector": {
   "cols": {
    "lenName": 16,
    "lenType": 16,
    "lenVar": 40
   },
   "kernels_config": {
    "python": {
     "delete_cmd_postfix": "",
     "delete_cmd_prefix": "del ",
     "library": "var_list.py",
     "varRefreshCmd": "print(var_dic_list())"
    },
    "r": {
     "delete_cmd_postfix": ") ",
     "delete_cmd_prefix": "rm(",
     "library": "var_list.r",
     "varRefreshCmd": "cat(var_dic_list()) "
    }
   },
   "types_to_exclude": [
    "module",
    "function",
    "builtin_function_or_method",
    "instance",
    "_Feature"
   ],
   "window_display": false
  }
 },
 "nbformat": 4,
 "nbformat_minor": 2
}
