{
 "cells": [
  {
   "cell_type": "markdown",
   "metadata": {},
   "source": [
    "# Classical Mechanics I (PHYS 311)\n",
    "## Studio 12"
   ]
  },
  {
   "cell_type": "markdown",
   "metadata": {},
   "source": [
    "*Name:* \n",
    "\n",
    "*Date:* "
   ]
  },
  {
   "cell_type": "markdown",
   "metadata": {},
   "source": [
    "## Driven Damped Harmonic Oscillators"
   ]
  },
  {
   "cell_type": "code",
   "execution_count": null,
   "metadata": {
    "scrolled": true
   },
   "outputs": [],
   "source": [
    "%pylab inline"
   ]
  },
  {
   "cell_type": "markdown",
   "metadata": {},
   "source": [
    "Last time you coded up a damped harmonic oscillator system. Let's simplify down to 1D, and now add a driving force.\n",
    "\n",
    "Code up the differential equation for a 1D harmonic oscillator using `odeint` like we've done a few times in this class. But now include a frictional term **and a driving force $f(t)=f_0 cos(\\omega_d t)$**. So your system of first-order ODEs should be:\n",
    "\n",
    "$$\\dot{v}_x = - 2\\beta v_x - \\omega^2 x + f_0 cos(\\omega_d t)$$\n",
    "$$\\dot{x} = v_x$$\n",
    "\n",
    "When you code this up, make $\\beta$, $\\omega$, $\\omega_d$, and $f_0$ configurable arguments to your `ode_system` function (the same way we were handing it masses before)."
   ]
  },
  {
   "cell_type": "code",
   "execution_count": null,
   "metadata": {},
   "outputs": [],
   "source": []
  },
  {
   "cell_type": "markdown",
   "metadata": {},
   "source": [
    "Let's **not** use animations this week. Let's just plot the positions as a function of time. Basically, we're making the plots that I tried to (badly) draw on the board.\n",
    "\n",
    "Plot for times from 0 to 50, in 200 steps. \n",
    "To describe the undriven oscillator, try $\\beta=0.1$, $\\omega=10$ (i.e. underdamped!). \n",
    "To describe the driving force, use $f_0=1$, $\\omega_d=1$ (below the resonance condition). \n",
    "Start the system at the equilibrium position $x=0$ with no initial velocity. \n",
    "\n",
    "**Comment on the result:** Do you see transients? Do you see a steady state behavior? What's the frequency and amplitude of the steady-state behavior? Roughly how long does it take to get to the steady state?\n"
   ]
  },
  {
   "cell_type": "code",
   "execution_count": null,
   "metadata": {},
   "outputs": [],
   "source": []
  },
  {
   "cell_type": "markdown",
   "metadata": {},
   "source": [
    "Change the starting position to 0.05, with no initial velocity. How long does it take to get to the steady state? Try with starting position of 1."
   ]
  },
  {
   "cell_type": "code",
   "execution_count": null,
   "metadata": {},
   "outputs": [],
   "source": []
  },
  {
   "cell_type": "code",
   "execution_count": null,
   "metadata": {},
   "outputs": [],
   "source": []
  },
  {
   "cell_type": "markdown",
   "metadata": {},
   "source": [
    "Now play with the parameters of the driving force. Demonstrate that you get the largest resulting amplitude when you drive an oscillator near its natural frequency by scanning various values of the driving frequencies."
   ]
  },
  {
   "cell_type": "code",
   "execution_count": null,
   "metadata": {},
   "outputs": [],
   "source": []
  },
  {
   "cell_type": "code",
   "execution_count": null,
   "metadata": {
    "scrolled": true
   },
   "outputs": [],
   "source": []
  },
  {
   "cell_type": "markdown",
   "metadata": {},
   "source": [
    "**EC(+0.5): Plot the original driving force on some plots to compare the phase of the resulting motion. Show that well below resonance, the relative phase is 0, and well above it, the relative phase is $\\pi$**"
   ]
  },
  {
   "cell_type": "code",
   "execution_count": null,
   "metadata": {},
   "outputs": [],
   "source": []
  },
  {
   "cell_type": "code",
   "execution_count": null,
   "metadata": {},
   "outputs": [],
   "source": []
  },
  {
   "cell_type": "code",
   "execution_count": null,
   "metadata": {},
   "outputs": [],
   "source": []
  }
 ],
 "metadata": {
  "kernelspec": {
   "display_name": "Python 3",
   "language": "python",
   "name": "python3"
  },
  "language_info": {
   "codemirror_mode": {
    "name": "ipython",
    "version": 3
   },
   "file_extension": ".py",
   "mimetype": "text/x-python",
   "name": "python",
   "nbconvert_exporter": "python",
   "pygments_lexer": "ipython3",
   "version": "3.6.10"
  },
  "toc": {
   "base_numbering": 1,
   "nav_menu": {},
   "number_sections": true,
   "sideBar": true,
   "skip_h1_title": false,
   "title_cell": "Table of Contents",
   "title_sidebar": "Contents",
   "toc_cell": false,
   "toc_position": {},
   "toc_section_display": true,
   "toc_window_display": false
  },
  "varInspector": {
   "cols": {
    "lenName": 16,
    "lenType": 16,
    "lenVar": 40
   },
   "kernels_config": {
    "python": {
     "delete_cmd_postfix": "",
     "delete_cmd_prefix": "del ",
     "library": "var_list.py",
     "varRefreshCmd": "print(var_dic_list())"
    },
    "r": {
     "delete_cmd_postfix": ") ",
     "delete_cmd_prefix": "rm(",
     "library": "var_list.r",
     "varRefreshCmd": "cat(var_dic_list()) "
    }
   },
   "types_to_exclude": [
    "module",
    "function",
    "builtin_function_or_method",
    "instance",
    "_Feature"
   ],
   "window_display": false
  }
 },
 "nbformat": 4,
 "nbformat_minor": 2
}
