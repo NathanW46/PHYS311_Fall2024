{
  "cells": [
    {
      "cell_type": "markdown",
      "metadata": {
        "id": "fbK_keaVwNlK"
      },
      "source": [
        "# Classical Mechanics I (PHYS 311)\n",
        "## Studio 1"
      ]
    },
    {
      "cell_type": "markdown",
      "metadata": {
        "id": "-BpBpYZbwNlK"
      },
      "source": [
        "*Name:* Nathan Whittington\n",
        "\n",
        "*Date:* 8/20/2025"
      ]
    },
    {
      "cell_type": "markdown",
      "metadata": {
        "id": "5oGWp-ohwNlK"
      },
      "source": [
        "## Introduction"
      ]
    },
    {
      "cell_type": "markdown",
      "metadata": {
        "id": "vtuBjxTcwNlK"
      },
      "source": [
        "Most weeks, we'll have a studio exercise in Python Jupyter Notebooks. I assume you'll have set up your accounts before starting this notebook. (If you haven't done this, please see S0 on Canvas for instructions ASAP!)\n",
        "\n",
        "This week we'll start with some notebook basics and some physics basics.\n",
        "\n",
        "**If you're new to Python**, there will be some resources on Canvas to learn the basics. But we'll take things relatively slow so you can learn as you go. There are many many resources, so make sure to take some time to use them if you're having trouble with Python. (There's even **extra credit** available for going through a python quick start course to build your understanding!)\n",
        "\n",
        "**If you're new to Notebooks**, check out [this link](https://www.dataquest.io/blog/jupyter-notebook-tutorial/). A notebook contains cells that can be executed (by hitting `shift+enter`). This can either execute code (here, Python) if the cell type is `code`. Or if you're trying to write an annotation like this one, set the type of cell to `Markdown`, and type in your Markdown and render it with `shift+enter`.\n",
        "\n",
        "It's very useful to know how to use **Markdown** (md) as it's a text formatting standard these days, adopted by most modern platforms. If you're new to it, check out [Google's guide to Markdown]( https://guides.github.com/features/mastering-markdown/). Here's a handy [Cheatsheet](https://www.markdownguide.org/cheat-sheet/).\n",
        "\n",
        "Double click this cell to see the md source \"code\". You can make things **bold**, _italics_, or make things headings by adding N pound signs at the beginning of a line. There are lists and links available. Take a look at the documentation from GitHub above for more info. Remember to re-render the md using `shift+enter`."
      ]
    },
    {
      "cell_type": "markdown",
      "metadata": {
        "id": "hJbn5ZNYwNlK"
      },
      "source": [
        "### Basic Setup"
      ]
    },
    {
      "cell_type": "markdown",
      "metadata": {
        "id": "UuoFvc8swNlK"
      },
      "source": [
        "We're going to need a standard set of python tools for scientific work. An easy shorthand for this is the following line. Execute it and you will find that the notebook loads two very important libraries: `numpy` for numerical tools, and `matplotlib` for plotting and visualization. Click the following cell, and execute (`shift+enter`) it."
      ]
    },
    {
      "cell_type": "code",
      "execution_count": 1,
      "metadata": {
        "id": "SOuAoJVjwNlK",
        "outputId": "660d9e87-9937-4cab-90bd-573875d4a8e4",
        "colab": {
          "base_uri": "https://localhost:8080/"
        }
      },
      "outputs": [
        {
          "output_type": "stream",
          "name": "stdout",
          "text": [
            "Populating the interactive namespace from numpy and matplotlib\n"
          ]
        }
      ],
      "source": [
        "%pylab inline"
      ]
    },
    {
      "cell_type": "markdown",
      "metadata": {
        "id": "Mxmo50fTwNlK"
      },
      "source": [
        "In this class we want to get familiar with Python and Jupyter. First of all familiarize yourself with this notebook. You can enter comments, equations, code, etc. When in a code cell, just hit `enter` to create a new line of code within the same cell. To add a new cell below your current cell, just hit `b` on your keyboard, or navigate through the menus above. Preserve the final code for submission.\n",
        "\n",
        "Try to figure out how to do the following. (Google is your friend!)"
      ]
    },
    {
      "cell_type": "markdown",
      "metadata": {
        "id": "Hv_TiHILwNlK"
      },
      "source": [
        "### Python as a calculator"
      ]
    },
    {
      "cell_type": "markdown",
      "metadata": {
        "id": "-NI8y1JPwNlK"
      },
      "source": [
        "1. Calculate 2+2\n",
        "2. Calculate the sin of $\\pi$/2\n",
        "3. Calculate $4.5^4$\n",
        "\n",
        "Compute these below. Make sure the answers to each of these is visible in the output!"
      ]
    },
    {
      "cell_type": "code",
      "execution_count": 4,
      "metadata": {
        "id": "v9uyB4oWwNlK",
        "outputId": "ebf9518f-2afd-4876-db80-84beb323573e",
        "colab": {
          "base_uri": "https://localhost:8080/"
        }
      },
      "outputs": [
        {
          "output_type": "stream",
          "name": "stdout",
          "text": [
            "4\n",
            "1.0\n",
            "410.0625\n"
          ]
        }
      ],
      "source": [
        "import numpy as np\n",
        "print(2+2)\n",
        "print(np.sin(np.pi/2))\n",
        "print(4.5**4)"
      ]
    },
    {
      "cell_type": "markdown",
      "metadata": {
        "id": "iE3VXsjUwNlK"
      },
      "source": [
        "### Storing information in variables / types"
      ]
    },
    {
      "cell_type": "markdown",
      "metadata": {
        "id": "Mk0BlVfbwNlK"
      },
      "source": [
        "Python is not a strongly typed programming language -- this is often very convenient but can be dangerous! If you're familiar with C/C++, this will feel pretty different."
      ]
    },
    {
      "cell_type": "code",
      "execution_count": 5,
      "metadata": {
        "id": "7pT0y8C8wNlK"
      },
      "outputs": [],
      "source": [
        "a='boom'\n",
        "b='bap'"
      ]
    },
    {
      "cell_type": "code",
      "execution_count": 6,
      "metadata": {
        "id": "wmVPk5fxwNlK",
        "outputId": "aa4d2bb9-1ce3-4ede-ffe0-ddc14063ca70",
        "colab": {
          "base_uri": "https://localhost:8080/"
        }
      },
      "outputs": [
        {
          "output_type": "stream",
          "name": "stdout",
          "text": [
            "<class 'str'> <class 'str'>\n"
          ]
        }
      ],
      "source": [
        "print( type(a), type(b) )"
      ]
    },
    {
      "cell_type": "markdown",
      "metadata": {
        "id": "ZIZtYWHlwNlK"
      },
      "source": [
        "So we can see that python has infered that you wanted `a` and `b` to be `str` (string) objects without you ever having to say it explicitly. You can imagine how this may be dangerous at times."
      ]
    },
    {
      "cell_type": "markdown",
      "metadata": {
        "id": "RSXHG8EIwNlK"
      },
      "source": [
        "To get documentation for anything in this notebook, just put a question mark in front of it. To learn what `type` does, do the following:"
      ]
    },
    {
      "cell_type": "code",
      "execution_count": 7,
      "metadata": {
        "id": "7z_SE4_XwNlK"
      },
      "outputs": [],
      "source": [
        "?type"
      ]
    },
    {
      "cell_type": "markdown",
      "metadata": {
        "id": "ZawFO5m3wNlK"
      },
      "source": [
        "`a` and `b` both contain `str` objects now. Try concatenating them with the `+` operator:"
      ]
    },
    {
      "cell_type": "code",
      "execution_count": 8,
      "metadata": {
        "id": "ORAeATgiwNlK",
        "outputId": "bfcf2062-3d13-4d9d-8887-d8b4067478eb",
        "colab": {
          "base_uri": "https://localhost:8080/",
          "height": 36
        }
      },
      "outputs": [
        {
          "output_type": "execute_result",
          "data": {
            "text/plain": [
              "'boombap'"
            ],
            "application/vnd.google.colaboratory.intrinsic+json": {
              "type": "string"
            }
          },
          "metadata": {},
          "execution_count": 8
        }
      ],
      "source": [
        "a+b"
      ]
    },
    {
      "cell_type": "markdown",
      "metadata": {
        "id": "6uyUE_ytwNlK"
      },
      "source": [
        "Let's try storing some numbers now:"
      ]
    },
    {
      "cell_type": "code",
      "execution_count": 9,
      "metadata": {
        "id": "xTQ9OYN8wNlK"
      },
      "outputs": [],
      "source": [
        "c=2\n",
        "d=2."
      ]
    },
    {
      "cell_type": "markdown",
      "metadata": {
        "id": "SOyzD24WwNla"
      },
      "source": [
        "What are the types of the variables `c` and `d`? Notice that we're in Python 3 (look in the upper right of your window to see the Kernel name). If you're interested, you can learn about some of the differences between Python 2 and 3 w.r.t. how these types are handled."
      ]
    },
    {
      "cell_type": "code",
      "execution_count": 10,
      "metadata": {
        "id": "Ng0ha-jWwNla",
        "outputId": "2aa06730-bdec-446c-ea32-5bd0de3b392f",
        "colab": {
          "base_uri": "https://localhost:8080/"
        }
      },
      "outputs": [
        {
          "output_type": "stream",
          "name": "stdout",
          "text": [
            "<class 'int'> <class 'float'>\n"
          ]
        }
      ],
      "source": [
        "print(type(c), type(d))"
      ]
    },
    {
      "cell_type": "markdown",
      "metadata": {
        "id": "_--8pRWlwNla"
      },
      "source": [
        "The first thing we should have gone over is how to add a comment in python. Whenever there is a pound sign, `#` in your python, everything after this symbol is not processed and is a comment. **Comments are very important** when writing code -- both for communicating to others the purpose of the code, and for you to understand your code later, but also from a design perspective, they are crucial for effectively organizing your code."
      ]
    },
    {
      "cell_type": "code",
      "execution_count": 11,
      "metadata": {
        "id": "lLce8B5BwNla"
      },
      "outputs": [],
      "source": [
        "a = \"This line isn't commented\" #but this stuff is\n",
        "# And so is this whole line!"
      ]
    },
    {
      "cell_type": "markdown",
      "metadata": {
        "id": "RnOH4WQwwNla"
      },
      "source": [
        "### Lists and Arrays"
      ]
    },
    {
      "cell_type": "code",
      "execution_count": 12,
      "metadata": {
        "id": "9_OTm442wNla",
        "outputId": "5b043d6b-0b76-49f3-f7f9-b99b473c5b71",
        "colab": {
          "base_uri": "https://localhost:8080/"
        }
      },
      "outputs": [
        {
          "output_type": "stream",
          "name": "stdout",
          "text": [
            "Populating the interactive namespace from numpy and matplotlib\n"
          ]
        }
      ],
      "source": [
        "%pylab inline"
      ]
    },
    {
      "cell_type": "markdown",
      "metadata": {
        "id": "Jv7xxti3wNla"
      },
      "source": [
        "We can store multiple objects in a list in python."
      ]
    },
    {
      "cell_type": "code",
      "execution_count": 13,
      "metadata": {
        "id": "MRb-ojeKwNla",
        "outputId": "f277a2d0-9089-4f90-dc12-377a92fdfb53",
        "colab": {
          "base_uri": "https://localhost:8080/"
        }
      },
      "outputs": [
        {
          "output_type": "stream",
          "name": "stdout",
          "text": [
            "3\n"
          ]
        }
      ],
      "source": [
        "myList=[3,1,4,1,5,9]\n",
        "print(myList[0]) # this will print out the first element of myList"
      ]
    },
    {
      "cell_type": "markdown",
      "metadata": {
        "id": "k9oHRtdxwNla"
      },
      "source": [
        "Access and print the last element of the list `myList`. Can you figure out a way to do this without a priori knowing how long the list is? (Google is your friend!)"
      ]
    },
    {
      "cell_type": "code",
      "execution_count": 14,
      "metadata": {
        "id": "t8-i3eTPwNla",
        "outputId": "d4e73b6b-b110-4c1b-90ef-12a83875101e",
        "colab": {
          "base_uri": "https://localhost:8080/"
        }
      },
      "outputs": [
        {
          "output_type": "stream",
          "name": "stdout",
          "text": [
            "9\n"
          ]
        }
      ],
      "source": [
        "print(myList[-1])"
      ]
    },
    {
      "cell_type": "markdown",
      "metadata": {
        "id": "Lnn9TnE5wNla"
      },
      "source": [
        "Now set it to another number and then print out the entire object `myList`."
      ]
    },
    {
      "cell_type": "code",
      "execution_count": 15,
      "metadata": {
        "id": "yubSvOjywNla",
        "outputId": "8368ff13-7e62-4330-fef7-bef5c088d12f",
        "colab": {
          "base_uri": "https://localhost:8080/"
        }
      },
      "outputs": [
        {
          "output_type": "stream",
          "name": "stdout",
          "text": [
            "[3, 1, 4, 1, 5, 23]\n"
          ]
        }
      ],
      "source": [
        "myList[-1] = 23\n",
        "print(myList)"
      ]
    },
    {
      "cell_type": "markdown",
      "metadata": {
        "id": "7S2YefMswNla"
      },
      "source": [
        "What is the type of `myList`?"
      ]
    },
    {
      "cell_type": "code",
      "execution_count": 16,
      "metadata": {
        "id": "GmYAFKmMwNla",
        "outputId": "d69069e8-848b-44ec-a09f-6d3d40f52e7e",
        "colab": {
          "base_uri": "https://localhost:8080/"
        }
      },
      "outputs": [
        {
          "output_type": "stream",
          "name": "stdout",
          "text": [
            "<class 'list'>\n"
          ]
        }
      ],
      "source": [
        "print(type(myList))"
      ]
    },
    {
      "cell_type": "markdown",
      "metadata": {
        "id": "qp7_d1EHwNla"
      },
      "source": [
        "There is a very similar structure given by `numpy` called the `ndarray` which is an array type. We'll see it shortly."
      ]
    },
    {
      "cell_type": "markdown",
      "metadata": {
        "id": "bNoEDIRywNla"
      },
      "source": [
        "### Plotting data"
      ]
    },
    {
      "cell_type": "markdown",
      "metadata": {
        "id": "mH1Hsu5iwNla"
      },
      "source": [
        "We are loading some libraries that will let us plot things and that will let us do more complicated mathematical things."
      ]
    },
    {
      "cell_type": "code",
      "execution_count": 17,
      "metadata": {
        "id": "srv3KJdCwNla",
        "outputId": "57faee87-6fad-496c-8543-f5ad99e7527d",
        "colab": {
          "base_uri": "https://localhost:8080/"
        }
      },
      "outputs": [
        {
          "output_type": "stream",
          "name": "stdout",
          "text": [
            "Populating the interactive namespace from numpy and matplotlib\n"
          ]
        }
      ],
      "source": [
        "%pylab inline"
      ]
    },
    {
      "cell_type": "markdown",
      "metadata": {
        "id": "8g4LUPPrwNla"
      },
      "source": [
        "In python, we plot data points. That means that we need to generate 2 vectors of equal length. One contains the x-values and the second one the y-values."
      ]
    },
    {
      "cell_type": "code",
      "execution_count": 18,
      "metadata": {
        "id": "4DaL_xZSwNla",
        "outputId": "e9ca3227-f17d-4c79-e48e-2d14197377d3",
        "colab": {
          "base_uri": "https://localhost:8080/"
        }
      },
      "outputs": [
        {
          "output_type": "execute_result",
          "data": {
            "text/plain": [
              "[1, 2, 3, 4, 5, 6, 7, 8, 9]"
            ]
          },
          "metadata": {},
          "execution_count": 18
        }
      ],
      "source": [
        "vector_list = list( range(1, 10, 1) )\n",
        "vector_list"
      ]
    },
    {
      "cell_type": "code",
      "execution_count": 19,
      "metadata": {
        "id": "gN9o0z7ZwNla"
      },
      "outputs": [],
      "source": [
        "?range"
      ]
    },
    {
      "cell_type": "code",
      "execution_count": 20,
      "metadata": {
        "id": "nxF-EaNowNla",
        "outputId": "8e1a5475-d4d7-4268-e82d-60e04270c3eb",
        "colab": {
          "base_uri": "https://localhost:8080/"
        }
      },
      "outputs": [
        {
          "output_type": "execute_result",
          "data": {
            "text/plain": [
              "array([1, 2, 3, 4, 5, 6, 7, 8, 9])"
            ]
          },
          "metadata": {},
          "execution_count": 20
        }
      ],
      "source": [
        "vector_array = arange(1, 10, 1)\n",
        "vector_array"
      ]
    },
    {
      "cell_type": "code",
      "execution_count": 22,
      "metadata": {
        "id": "ZK6ReLHEwNla"
      },
      "outputs": [],
      "source": [
        "?arange"
      ]
    },
    {
      "cell_type": "markdown",
      "metadata": {
        "id": "4gLFFIr4wNla"
      },
      "source": [
        "Now we're going to create a custom python function to represent the function we'd like to plot."
      ]
    },
    {
      "cell_type": "code",
      "execution_count": 23,
      "metadata": {
        "id": "ILsI99ogwNla"
      },
      "outputs": [],
      "source": [
        "def squared(x):\n",
        "    squared = x*x\n",
        "    return squared"
      ]
    },
    {
      "cell_type": "markdown",
      "metadata": {
        "id": "qNOqERjkwNla"
      },
      "source": [
        "You can now use this function `squared()` to square things! Give it a shot by squaring some number:"
      ]
    },
    {
      "cell_type": "code",
      "execution_count": 24,
      "metadata": {
        "id": "0K-BYMrPwNla",
        "outputId": "8822d660-4b87-45e2-94e4-5206546002b2",
        "colab": {
          "base_uri": "https://localhost:8080/"
        }
      },
      "outputs": [
        {
          "output_type": "execute_result",
          "data": {
            "text/plain": [
              "144"
            ]
          },
          "metadata": {},
          "execution_count": 24
        }
      ],
      "source": [
        "squared(12)"
      ]
    },
    {
      "cell_type": "markdown",
      "metadata": {
        "id": "acDhWv6twNla"
      },
      "source": [
        "Now we're about to see a crucial difference between python's built-in `list` type and `numpy`'s more powerful `ndarray`. What happens when you try to feed `vector_list` into this new function? What about when you hand it `vector_array`? Find something that works and store it in a new variable."
      ]
    },
    {
      "cell_type": "code",
      "execution_count": 28,
      "metadata": {
        "id": "BheGrG8XwNla",
        "outputId": "914a43be-6594-441e-c90f-e934f98769e1",
        "colab": {
          "base_uri": "https://localhost:8080/"
        }
      },
      "outputs": [
        {
          "output_type": "execute_result",
          "data": {
            "text/plain": [
              "array([ 1,  4,  9, 16, 25, 36, 49, 64, 81])"
            ]
          },
          "metadata": {},
          "execution_count": 28
        }
      ],
      "source": [
        "#squared(vector_list) produces an error\n",
        "squared(vector_array)"
      ]
    },
    {
      "cell_type": "markdown",
      "metadata": {
        "id": "vXB68a-zwNla"
      },
      "source": [
        "We can quickly plot the data points you've just calculated with the `plot` command (provided by pylab). Remember to use `?plot` for more information. Basically, you want to run `plot(x,y)` where your `x` and `y` are array objects (or can be list objects in principle). An optional third argument takes a string that defines the draw style. Try out using `o-` for a circle at each point and a line conecting the points.\n",
        "\n",
        "Don't forget to label your axes. Always always always label axes!!! In the same cell as your plot command, try out the `xlabel()` and `ylabel()` commands.\n",
        "\n",
        "Remember that we're looking for a plot of f(x) on the y axis, and x on the x axis. How should you call the `plot()` function here?"
      ]
    },
    {
      "cell_type": "code",
      "execution_count": null,
      "metadata": {
        "id": "AYMwVE_JwNla"
      },
      "outputs": [],
      "source": []
    },
    {
      "cell_type": "markdown",
      "metadata": {
        "id": "tvTkoK4owNla"
      },
      "source": [
        "Now go ahead and make a new function that computes the sine of the input, and plot it! (Careful with what you call your new function to make sure it doesn't clash with other already-defined functions!)"
      ]
    },
    {
      "cell_type": "code",
      "execution_count": null,
      "metadata": {
        "id": "wVQaLl62wNla"
      },
      "outputs": [],
      "source": []
    },
    {
      "cell_type": "markdown",
      "metadata": {
        "collapsed": true,
        "id": "Jh8TPigLwNla"
      },
      "source": [
        "Notice that our sampling is quite low (only 10 points). Try playing around to get these functions samples with 100 points to get a higher resolution representation of these functions.\n",
        "\n",
        "Search the `matplotlib` manual and figure out more ways to plot the data. Add a title to the figure!"
      ]
    },
    {
      "cell_type": "markdown",
      "metadata": {
        "id": "DB9rF6VQwNla"
      },
      "source": [
        "**EC(+0.5) [\"For +0.5 extra credit -- feel free to skip!\"]: Add a cell below this and plot three different functions on the same axis with three different line styles. Make sure to label your axes and draw a legend!**"
      ]
    },
    {
      "cell_type": "markdown",
      "metadata": {
        "id": "tE8r_VrxwNla"
      },
      "source": [
        "### Defining a function"
      ]
    },
    {
      "cell_type": "markdown",
      "metadata": {
        "id": "qIdBbcmMwNla"
      },
      "source": [
        "Define your own function that converts Fahrenheit into Celsius and show that it works for a few input values."
      ]
    },
    {
      "cell_type": "code",
      "execution_count": null,
      "metadata": {
        "id": "2D4SBQcmwNla"
      },
      "outputs": [],
      "source": []
    },
    {
      "cell_type": "markdown",
      "metadata": {
        "id": "unY2P199wNla"
      },
      "source": [
        "### Conditionals"
      ]
    },
    {
      "cell_type": "markdown",
      "metadata": {
        "id": "2RwSlPcAwNla"
      },
      "source": [
        "There are various ways of steering the logic of a program. Remember that fundamentally, a program executes in a logical order. Normally if you were writing a script from scratch, you would read the logic from top to bottom. Notebooks violate this a little bit and allow you to execute things in strange orders, but you should try to organize your thoughts from top to bottom.\n",
        "\n",
        "Let's start with a simple `if` statement. The syntax for such statements is pretty particular in python."
      ]
    },
    {
      "cell_type": "code",
      "execution_count": null,
      "metadata": {
        "id": "twQ_HyYlwNla"
      },
      "outputs": [],
      "source": [
        "a = True\n",
        "aIsTrue = False\n",
        "if a == True:\n",
        "    aIsTrue = True"
      ]
    },
    {
      "cell_type": "markdown",
      "metadata": {
        "id": "EhsVjqkcwNla"
      },
      "source": [
        "Note the whitespace that represents being \"inside\" the `if` statement. Here it's four spaces (and that was acheived by just hitting `tab` on your keyboard). Python doesn't actually care how much whitespace there is, but it *does* care that you stay consistent with your indentation levels."
      ]
    },
    {
      "cell_type": "markdown",
      "metadata": {
        "id": "ePfdHVTmwNla"
      },
      "source": [
        "You can also ask about the alternative with `else`, or even additional alternate scenarios with intermediate `elif` commands. (You may be familiar with `else if` in C/C++, but python has a specific symbol for this command.)"
      ]
    },
    {
      "cell_type": "code",
      "execution_count": null,
      "metadata": {
        "id": "6GDAPyK_wNla"
      },
      "outputs": [],
      "source": [
        "a = 0\n",
        "if a > 0:\n",
        "    description = \"positive\"\n",
        "elif a < 0:\n",
        "    description = \"negative\"\n",
        "else:\n",
        "    description = \"zero\"\n",
        "print(\"a is \" + description)"
      ]
    },
    {
      "cell_type": "markdown",
      "metadata": {
        "id": "LUDgUfZIwNla"
      },
      "source": [
        "Write a quick function to take in a number grade that returns a string containing the appropriate letter grade A,B,C,D, or F, using the standard grade boundaries. And then test it with a grade. This will be your final course grade. (No - not really.)"
      ]
    },
    {
      "cell_type": "code",
      "execution_count": null,
      "metadata": {
        "id": "v2QaVlkIwNla"
      },
      "outputs": [],
      "source": []
    },
    {
      "cell_type": "markdown",
      "metadata": {
        "id": "WkJLgGtiwNla"
      },
      "source": [
        "### Loops"
      ]
    },
    {
      "cell_type": "markdown",
      "metadata": {
        "id": "mOORxx_RwNla"
      },
      "source": [
        "#### The for-loop"
      ]
    },
    {
      "cell_type": "markdown",
      "metadata": {
        "id": "shrEPaPcwNla"
      },
      "source": [
        "There are two ways to make the computer do things repeatedly. The first one we will discuss is the for-loop."
      ]
    },
    {
      "cell_type": "code",
      "execution_count": null,
      "metadata": {
        "id": "3Oo7WxYUwNla"
      },
      "outputs": [],
      "source": [
        "vector1 = arange(1,10,0.5)\n",
        "vector2 = arange(1,10,0.5)\n",
        "for i in range(len(vector1)):\n",
        "    vector2[i] = vector1[i]*vector1[i]"
      ]
    },
    {
      "cell_type": "code",
      "execution_count": null,
      "metadata": {
        "id": "MznPthwtwNla"
      },
      "outputs": [],
      "source": [
        "plot(vector1,vector2)"
      ]
    },
    {
      "cell_type": "markdown",
      "metadata": {
        "id": "xIfq3PjswNla"
      },
      "source": [
        "#### The while loop"
      ]
    },
    {
      "cell_type": "markdown",
      "metadata": {
        "id": "-gO2QjsBwNla"
      },
      "source": [
        "Look it up. It's a dangerous loop. We hopefully won't need it in this class, but it's important for you to know about. Essentially it repeats its contents until it's argument is false. (Just like in other languages.)"
      ]
    },
    {
      "cell_type": "markdown",
      "metadata": {
        "id": "P9oZG39twNla"
      },
      "source": [
        "### Reading data"
      ]
    },
    {
      "cell_type": "markdown",
      "metadata": {
        "id": "NyW_Xbk9wNlr"
      },
      "source": [
        "Download the data file 'http://folk.uio.no/malthe/mechbook/100m.d ' and copy into the variable `data`. I suggest that you make an extra folder in your home directory called `data` and put this file in there. You'll use the `loadtxt` function which you should give the path to this new file relative to the location of this notebook."
      ]
    },
    {
      "cell_type": "code",
      "execution_count": null,
      "metadata": {
        "id": "Z4x-9wIcwNlr"
      },
      "outputs": [],
      "source": [
        "data = loadtxt('data/100m.d')"
      ]
    },
    {
      "cell_type": "code",
      "execution_count": null,
      "metadata": {
        "id": "zkuC6QvawNlr"
      },
      "outputs": [],
      "source": [
        "data"
      ]
    },
    {
      "cell_type": "markdown",
      "metadata": {
        "id": "qJGWPZkbwNlr"
      },
      "source": [
        "Explore the data variable that you generated. How many data points are in this file?"
      ]
    },
    {
      "cell_type": "code",
      "execution_count": null,
      "metadata": {
        "id": "eQwF9m8KwNlr"
      },
      "outputs": [],
      "source": []
    },
    {
      "cell_type": "markdown",
      "metadata": {
        "id": "V_uW8PDmwNlr"
      },
      "source": [
        "Now it's important to know how to access different elements of an array like this. Here we have $N$ elements (where $N$ is the answer directly above) of our dataset, with each element being an array of two numbers. If I want to only take the first 10 elements, I can use the notation `data[0:10]` and that returns the subset. I could have also left the `0` implicit with just a `data[:10]`. If you want from the 10th element to the end, you could do `data[10:len(data)]`. Again you could have left the end implicit and it would have gone to the end with `data[10:]`. Try it -- get the 10th through 20th element (including the 20th) of this array:"
      ]
    },
    {
      "cell_type": "code",
      "execution_count": null,
      "metadata": {
        "id": "f-piL9BEwNlr"
      },
      "outputs": [],
      "source": []
    },
    {
      "cell_type": "markdown",
      "metadata": {
        "id": "DFrZQ4i4wNlr"
      },
      "source": [
        "You should have 11 elements in this array. Do you? If not, try again."
      ]
    },
    {
      "cell_type": "markdown",
      "metadata": {
        "id": "2mjeY2WbwNlr"
      },
      "source": [
        "You might say -- \"Oh but how do I deal with the internal array contained in each element?\" and that would be very astute of you. Luckily for you and for us all (I'm getting loopy because it's a Friday night) `numpy` gives a handy way of accessing this with a comma.\n",
        "\n",
        "If I want an array with just the first number in the first ten elements of `data`, I could do `data[:10,0]`. Give it a shot! I can also ask for the first element of all of the elements: `data[:,0]` (here leaving both the start and end of the first index implicit).\n",
        "\n",
        "Just to be explicit, `data[:10,0]` (or equally `data[0:10,0]`) would mean \"take the first 11 elements of `data`, each of which is another array, then only give me the first element of each of *those*\". The output should be an 11-element 1D array, whereas the input is a 2D array (it needs two indices to get to a single value).\n",
        "\n",
        "Below, get an array containing just the second number in each of these data points:"
      ]
    },
    {
      "cell_type": "code",
      "execution_count": null,
      "metadata": {
        "id": "a8Ghmh38wNlr"
      },
      "outputs": [],
      "source": []
    },
    {
      "cell_type": "markdown",
      "metadata": {
        "id": "IhUp8uWNwNlr"
      },
      "source": [
        "Plot all the data that you downloaded. Let's treat the first column as the x axis values, and the second as the y axis values."
      ]
    },
    {
      "cell_type": "code",
      "execution_count": null,
      "metadata": {
        "id": "1UXvhuy-wNlr"
      },
      "outputs": [],
      "source": []
    },
    {
      "cell_type": "markdown",
      "metadata": {
        "id": "LBsfpdtKwNlr"
      },
      "source": [
        "### Numerical Derivatives"
      ]
    },
    {
      "cell_type": "markdown",
      "metadata": {
        "id": "j_kXidBGwNlr"
      },
      "source": [
        "We discussed how position $x(t)$, velocity $v(t)$ and acceleration are related.\n",
        "$$v(t) = \\frac{\\hbox{d} x(t)}{\\hbox{d} t}~,$$\n",
        "$$ a(t) = \\frac{\\hbox{d} v(t)}{\\hbox{d} t}~.$$\n",
        "In textbook problems, we can simply take the derivative but for the data that we just plotted we need to take a numerical derivative. Calculate the numerical derivative for the data that we imported."
      ]
    },
    {
      "cell_type": "code",
      "execution_count": null,
      "metadata": {
        "id": "HJ-mxgFlwNlr"
      },
      "outputs": [],
      "source": [
        "def derivative(data_array):\n",
        "    delta_x = 0.\n",
        "    delta_t = 0.\n",
        "    derivative_array = zeros(len(data_array))\n",
        "    for i in range(len(data_array)-1):\n",
        "        delta_x = data[i+1,1]-data[i,1]\n",
        "        delta_t = data[i+1,0]-data[i,0]\n",
        "        derivative_array[i] = delta_x/delta_t\n",
        "\n",
        "\n",
        "    return derivative_array"
      ]
    },
    {
      "cell_type": "markdown",
      "metadata": {
        "id": "Qv-HWZv5wNlr"
      },
      "source": [
        "Take the derivative of the data you plotted from the last section. Let's interpret that data as the position (`data[:,1]`) as a function of the sampling times (`data[:,0]`). So the plot you made above is position (y-axis) as a function of time (x-axis). Find an array containing the velocity as a function of time."
      ]
    },
    {
      "cell_type": "code",
      "execution_count": null,
      "metadata": {
        "id": "oQDQGo0LwNlr"
      },
      "outputs": [],
      "source": []
    },
    {
      "cell_type": "markdown",
      "metadata": {
        "id": "GhLWa_j5wNlr"
      },
      "source": [
        "Great! Now that you have a new array containing the derivative, **let's plot that**! Then we should be looking at the *velocity* of this object! Remember that the derivative will be a new set of y values, but you should be able to plot against the same original x values (`data[:,0]`)."
      ]
    },
    {
      "cell_type": "code",
      "execution_count": null,
      "metadata": {
        "id": "szymdbPJwNlr"
      },
      "outputs": [],
      "source": []
    },
    {
      "cell_type": "markdown",
      "metadata": {
        "id": "GYHzmt6FwNlr"
      },
      "source": [
        "Try plotting both the original values (the position) and the first derivative (the velocity) on the same plot!"
      ]
    },
    {
      "cell_type": "code",
      "execution_count": null,
      "metadata": {
        "id": "NCpJqJeUwNlr"
      },
      "outputs": [],
      "source": []
    },
    {
      "cell_type": "markdown",
      "metadata": {
        "id": "3_h6rlXawNlr"
      },
      "source": [
        "**EC(+0.5): If you have time at the end, come back here and try to show (numerically) how the exponential function `exp(x)` is related to its derivative.**"
      ]
    },
    {
      "cell_type": "markdown",
      "metadata": {
        "id": "g5iINpXSwNlr"
      },
      "source": [
        "### Riemann Integral"
      ]
    },
    {
      "cell_type": "markdown",
      "metadata": {
        "id": "sbkpvkP5wNlr"
      },
      "source": [
        "In addition to numerical differentiation, let's also try a numerical integral. Remember that an integral is just the area under a curve. So you'll remember that there are geometrical methods to arrive at numerical approximations for integrals -- and this is what's done in practice in computation a lot. So let's use a simple Riemannian method of adding rectangles together."
      ]
    },
    {
      "cell_type": "code",
      "execution_count": null,
      "metadata": {
        "scrolled": true,
        "id": "Cql3N9GfwNlr"
      },
      "outputs": [],
      "source": [
        "def f(x):\n",
        "    return x\n",
        "\n",
        "\n",
        "rangeStart = 0; rangeEnd = 10; nRectangles = 30\n",
        "nSmooth = 10*nRectangles # for drawing a (seemingly) smooth curve.\n",
        "\n",
        "# This will give us a very coarse sampling of this function -> a bunch of rectangles with\n",
        "# width (rangeEnd-rangeStart)/nRectangles\n",
        "\n",
        "x = linspace(rangeStart,rangeEnd,nRectangles+1)\n",
        "y = f(x)\n",
        "w = (rangeEnd-rangeStart)/nRectangles\n",
        "\n",
        "# This will give us the data point for our continuous version of the function. Let's say this is\n",
        "# Effectively infinitly sampled.\n",
        "\n",
        "X = linspace(rangeStart,rangeEnd,nSmooth+1)\n",
        "Y = f(X)\n",
        "\n",
        "# This plots the \"true\" function.\n",
        "plot(X,Y)\n",
        "\n",
        "# This shows the markers\n",
        "plot(x,y,'b.',markersize=10)\n",
        "\n",
        "# This will show the actual rectangle's we'll use in approximating this integral.\n",
        "bar(x,y,width=w,alpha=0.2,align='edge',edgecolor='b')\n",
        "\n",
        "title('Left Riemann Sum, N = {}'.format(nRectangles))"
      ]
    },
    {
      "cell_type": "markdown",
      "metadata": {
        "id": "0tope202wNlr"
      },
      "source": [
        "If we want to take the integral, we just need to sum up the areas of those rectangles. (Notice, we should remove the last one if we're looking for the integral between 0 and 10 here. We can do that using a negative syntax. While `x[:]` will return all of `x`, if you do `x[:-1]` it'll give all of `x` except the last element. `x[:-2]` gives all but the last two, etc etc etc.)"
      ]
    },
    {
      "cell_type": "code",
      "execution_count": null,
      "metadata": {
        "id": "prrDpkhTwNlr"
      },
      "outputs": [],
      "source": [
        "def integrate(heights, width): #give it an array of heights and then a single float with the width of each rectangle.\n",
        "    arrayOfAreas = heights*width # This is a number times an array, so it returns an array\n",
        "    return sum(arrayOfAreas) # This sums over these elements to give a number as an output.\n",
        "\n",
        "integrate(x[:-1],w)"
      ]
    },
    {
      "cell_type": "markdown",
      "metadata": {
        "id": "goIDmH_KwNlr"
      },
      "source": [
        "This `integrate` function is adding together areas of rectangles. And you can see in the region between 0 and 10, the rectangles miss a little bit (that white triangle at the top). So we expect this number to **underestimate** the correct answer. On paper, analytically calculate the correct answer for this function between 0 and 10. How does it compare to this answer?"
      ]
    },
    {
      "cell_type": "code",
      "execution_count": null,
      "metadata": {
        "id": "2MoyrlB2wNlr"
      },
      "outputs": [],
      "source": []
    },
    {
      "cell_type": "markdown",
      "metadata": {
        "id": "e-wu4f3ewNlr"
      },
      "source": [
        "Now try playing with the `nRectangles` parameter above to see what raising and lowering it does to the integral. (Remember that you can go back up and edit and re-execute cells.)"
      ]
    },
    {
      "cell_type": "code",
      "execution_count": null,
      "metadata": {
        "id": "bU-Fe9Z-wNlr"
      },
      "outputs": [],
      "source": []
    },
    {
      "cell_type": "markdown",
      "metadata": {
        "id": "SWj2ENg-wNlr"
      },
      "source": [
        "**EC(+0.5): If you still have time, try this again with a function and interval of your choice. Take any function, and approximate its integral in some range of your choosing.**"
      ]
    }
  ],
  "metadata": {
    "interpreter": {
      "hash": "9deafd394aff8b6cb6c0144de6e8b26f30e2c4e8480b925f227d21668087d7c6"
    },
    "kernelspec": {
      "display_name": "Python 3",
      "language": "python",
      "name": "python3"
    },
    "language_info": {
      "codemirror_mode": {
        "name": "ipython",
        "version": 3
      },
      "file_extension": ".py",
      "mimetype": "text/x-python",
      "name": "python",
      "nbconvert_exporter": "python",
      "pygments_lexer": "ipython3",
      "version": "3.8.8"
    },
    "toc": {
      "base_numbering": 1,
      "nav_menu": {},
      "number_sections": true,
      "sideBar": true,
      "skip_h1_title": false,
      "title_cell": "Table of Contents",
      "title_sidebar": "Contents",
      "toc_cell": false,
      "toc_position": {},
      "toc_section_display": true,
      "toc_window_display": false
    },
    "varInspector": {
      "cols": {
        "lenName": 16,
        "lenType": 16,
        "lenVar": 40
      },
      "kernels_config": {
        "python": {
          "delete_cmd_postfix": "",
          "delete_cmd_prefix": "del ",
          "library": "var_list.py",
          "varRefreshCmd": "print(var_dic_list())"
        },
        "r": {
          "delete_cmd_postfix": ") ",
          "delete_cmd_prefix": "rm(",
          "library": "var_list.r",
          "varRefreshCmd": "cat(var_dic_list()) "
        }
      },
      "types_to_exclude": [
        "module",
        "function",
        "builtin_function_or_method",
        "instance",
        "_Feature"
      ],
      "window_display": false
    },
    "colab": {
      "provenance": []
    }
  },
  "nbformat": 4,
  "nbformat_minor": 0
}