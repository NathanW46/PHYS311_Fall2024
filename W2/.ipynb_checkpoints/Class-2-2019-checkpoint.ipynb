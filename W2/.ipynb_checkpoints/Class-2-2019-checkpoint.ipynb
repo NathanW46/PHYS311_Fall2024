{
 "cells": [
  {
   "cell_type": "code",
   "execution_count": 1,
   "metadata": {},
   "outputs": [
    {
     "name": "stdout",
     "output_type": "stream",
     "text": [
      "Populating the interactive namespace from numpy and matplotlib\n"
     ]
    }
   ],
   "source": [
    "%pylab inline"
   ]
  },
  {
   "cell_type": "markdown",
   "metadata": {},
   "source": [
    "# Class 2, Fall 2019 "
   ]
  },
  {
   "cell_type": "markdown",
   "metadata": {},
   "source": [
    "Let us start where we ended last time:\n",
    "Download the data file 'http://folk.uio.no/malthe/mechbook/100m.d ' and copy into the variable `data`. I suggest that you make an extra folder on your computer called `data`."
   ]
  },
  {
   "cell_type": "code",
   "execution_count": 2,
   "metadata": {},
   "outputs": [],
   "source": [
    "data = loadtxt('data/100m.d')"
   ]
  },
  {
   "cell_type": "code",
   "execution_count": 3,
   "metadata": {},
   "outputs": [
    {
     "data": {
      "text/plain": [
       "array([[ 0.0000000e+00, -2.1155775e-01],\n",
       "       [ 1.0000000e-02, -1.7485406e-01],\n",
       "       [ 2.0000000e-02, -1.3798607e-01],\n",
       "       ...,\n",
       "       [ 9.6800000e+00,  9.9487543e+01],\n",
       "       [ 9.6900000e+00,  9.9573488e+01],\n",
       "       [ 9.7000000e+00,  9.9659050e+01]])"
      ]
     },
     "execution_count": 3,
     "metadata": {},
     "output_type": "execute_result"
    }
   ],
   "source": [
    "data"
   ]
  },
  {
   "cell_type": "markdown",
   "metadata": {},
   "source": [
    "## Plot the data "
   ]
  },
  {
   "cell_type": "markdown",
   "metadata": {},
   "source": [
    "Plot the data that you have read in previously. "
   ]
  },
  {
   "cell_type": "code",
   "execution_count": 4,
   "metadata": {},
   "outputs": [
    {
     "data": {
      "text/plain": [
       "[<matplotlib.lines.Line2D at 0x1122e9a90>]"
      ]
     },
     "execution_count": 4,
     "metadata": {},
     "output_type": "execute_result"
    },
    {
     "data": {
      "image/png": "[encoded data removed]",
      "text/plain": [
       "<Figure size 432x288 with 1 Axes>"
      ]
     },
     "metadata": {
      "needs_background": "light"
     },
     "output_type": "display_data"
    }
   ],
   "source": [
    "plot(data[:,0],data[:,1])"
   ]
  },
  {
   "cell_type": "markdown",
   "metadata": {},
   "source": [
    "## Derivatives"
   ]
  },
  {
   "cell_type": "code",
   "execution_count": 8,
   "metadata": {},
   "outputs": [
    {
     "data": {
      "text/plain": [
       "971"
      ]
     },
     "execution_count": 8,
     "metadata": {},
     "output_type": "execute_result"
    }
   ],
   "source": [
    "len(data[:,1])"
   ]
  },
  {
   "cell_type": "code",
   "execution_count": 19,
   "metadata": {},
   "outputs": [
    {
     "data": {
      "text/plain": [
       "[<matplotlib.lines.Line2D at 0x117869350>]"
      ]
     },
     "execution_count": 19,
     "metadata": {},
     "output_type": "execute_result"
    },
    {
     "data": {
      "image/png": "[encoded data removed]",
      "text/plain": [
       "<Figure size 432x288 with 1 Axes>"
      ]
     },
     "metadata": {
      "needs_background": "light"
     },
     "output_type": "display_data"
    }
   ],
   "source": [
    "plot(data[0:10,0],data[0:10,1],'+')\n",
    "plot(data[0:10,0],2*data[0:10,1],'.')"
   ]
  },
  {
   "cell_type": "code",
   "execution_count": 17,
   "metadata": {},
   "outputs": [],
   "source": [
    "?plot"
   ]
  },
  {
   "cell_type": "markdown",
   "metadata": {},
   "source": [
    "We discussed how position $x(t)$, velocity $v(t)$ and acceleration are related.\n",
    "$$v(t) = \\frac{\\hbox{d} x(t)}{\\hbox{d} t}~,$$\n",
    "$$ a(t) = \\frac{\\hbox{d} v(t)}{\\hbox{d} t}~.$$\n",
    "In textbook problems, we can simply take the derivative analytically.\n",
    "<br>\n",
    "<br>\n",
    "Let us now try to calculate the numerical derivative of the data using the simply formula\n",
    "$$f' = \\frac{f(x+h) - f(x)}{h} $$ \n",
    "<br>\n",
    "<br>\n",
    "Compare your result with the numpy 'gradient' function."
   ]
  },
  {
   "cell_type": "code",
   "execution_count": 23,
   "metadata": {},
   "outputs": [
    {
     "name": "stdout",
     "output_type": "stream",
     "text": [
      "[0. 0. 0. 0. 0. 0. 0. 0. 0. 0.]\n"
     ]
    }
   ],
   "source": [
    "test = zeros(10)\n",
    "print(test)"
   ]
  },
  {
   "cell_type": "code",
   "execution_count": 5,
   "metadata": {},
   "outputs": [],
   "source": [
    "def derivative(data_array):\n",
    "    delta_x = 0.\n",
    "    delta_t = 0.\n",
    "    derivative_array = zeros(len(data_array))\n",
    "    for i in range(len(data_array)-1):\n",
    "        delta_x = data[i+1,1]-data[i,1]\n",
    "        delta_t = data[i+1,0]-data[i,0]\n",
    "        derivative_array[i] = delta_x/delta_t\n",
    "        \n",
    "    \n",
    "    return derivative_array"
   ]
  },
  {
   "cell_type": "code",
   "execution_count": 6,
   "metadata": {},
   "outputs": [],
   "source": [
    "velocity = derivative(data)"
   ]
  },
  {
   "cell_type": "code",
   "execution_count": 7,
   "metadata": {},
   "outputs": [],
   "source": [
    "#velocity_gradient = gradient(data[:,1])\n",
    "velocity_gradient = gradient(data[:,1],data[:,0])"
   ]
  },
  {
   "cell_type": "code",
   "execution_count": 8,
   "metadata": {},
   "outputs": [
    {
     "data": {
      "text/plain": [
       "[<matplotlib.lines.Line2D at 0x11456e8d0>]"
      ]
     },
     "execution_count": 8,
     "metadata": {},
     "output_type": "execute_result"
    },
    {
     "data": {
      "image/png": "[encoded data removed]",
      "text/plain": [
       "<Figure size 432x288 with 1 Axes>"
      ]
     },
     "metadata": {
      "needs_background": "light"
     },
     "output_type": "display_data"
    }
   ],
   "source": [
    "plot(data[0:971,0],velocity[0:971])\n",
    "plot(data[:,0],velocity_gradient)"
   ]
  },
  {
   "cell_type": "markdown",
   "metadata": {},
   "source": [
    "Can we improve the derivative? Do you know what a Taylor expansion? Tell your instructor if you don't.\n",
    "\n",
    "<br>\n",
    "$$f' = \\frac{f(x+h) - f(x-h)}{2h} $$ \n",
    "\n",
    "Can you justify why this approximation is worse or better than what you used before."
   ]
  },
  {
   "cell_type": "markdown",
   "metadata": {},
   "source": [
    "## Integrating"
   ]
  },
  {
   "cell_type": "markdown",
   "metadata": {},
   "source": [
    "Save the data file `velocityy.dat` from http://folk.uio.no/malthe/mechbook/velocityy.dat to the computer and load it into your worksheet.\n",
    "\n",
    "Load the 1st column of the data into an array t and the second column into an array. Use the 'loadtxt' command. You can google or use the ? to get help. Feel free to discuss with your classmates."
   ]
  },
  {
   "cell_type": "code",
   "execution_count": null,
   "metadata": {},
   "outputs": [],
   "source": []
  },
  {
   "cell_type": "markdown",
   "metadata": {},
   "source": [
    "The array contains the velocity as a function of time. Plot v vs t:"
   ]
  },
  {
   "cell_type": "code",
   "execution_count": null,
   "metadata": {},
   "outputs": [],
   "source": []
  },
  {
   "cell_type": "markdown",
   "metadata": {},
   "source": [
    "Now will integrate the velocity numerically to obtain an approximation for the position. The formula is based on simply Riemnann integration:\n",
    "$$y(t_{n}) \\approx y(t_{n−1})+v(t_{n−1})(t_n −t_{n−1})$$\n",
    "Assume $y(t_0) = 0 $.\n",
    "<br>\n",
    "<br>\n",
    "Now write a script to calculate $y(t_i)$ that uses a for loop."
   ]
  },
  {
   "cell_type": "markdown",
   "metadata": {},
   "source": [
    "## Homework: Euler method"
   ]
  },
  {
   "cell_type": "markdown",
   "metadata": {},
   "source": [
    "Let's discuss the homework problem and discuss what we are doing here."
   ]
  },
  {
   "cell_type": "code",
   "execution_count": null,
   "metadata": {},
   "outputs": [],
   "source": [
    "    a[i]=acceleration(v[i],x[i],k,C)\n",
    "        v[i+1]=v[i]+a[i]*delta_t\n",
    "    x[i+1]=x[i]+v[i]*delta_t\n",
    "    t[i+1]=t[i]+delta_t"
   ]
  }
 ],
 "metadata": {
  "kernelspec": {
   "display_name": "Python 3",
   "language": "python",
   "name": "python3"
  },
  "language_info": {
   "codemirror_mode": {
    "name": "ipython",
    "version": 3
   },
   "file_extension": ".py",
   "mimetype": "text/x-python",
   "name": "python",
   "nbconvert_exporter": "python",
   "pygments_lexer": "ipython3",
   "version": "3.8.7"
  },
  "toc": {
   "base_numbering": 1,
   "nav_menu": {},
   "number_sections": true,
   "sideBar": true,
   "skip_h1_title": false,
   "title_cell": "Table of Contents",
   "title_sidebar": "Contents",
   "toc_cell": false,
   "toc_position": {
    "height": "calc(100% - 180px)",
    "left": "10px",
    "top": "150px",
    "width": "221.333px"
   },
   "toc_section_display": true,
   "toc_window_display": false
  },
  "varInspector": {
   "cols": {
    "lenName": 16,
    "lenType": 16,
    "lenVar": 40
   },
   "kernels_config": {
    "python": {
     "delete_cmd_postfix": "",
     "delete_cmd_prefix": "del ",
     "library": "var_list.py",
     "varRefreshCmd": "print(var_dic_list())"
    },
    "r": {
     "delete_cmd_postfix": ") ",
     "delete_cmd_prefix": "rm(",
     "library": "var_list.r",
     "varRefreshCmd": "cat(var_dic_list()) "
    }
   },
   "types_to_exclude": [
    "module",
    "function",
    "builtin_function_or_method",
    "instance",
    "_Feature"
   ],
   "window_display": false
  }
 },
 "nbformat": 4,
 "nbformat_minor": 2
}
