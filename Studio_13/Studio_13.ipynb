{
 "cells": [
  {
   "cell_type": "markdown",
   "metadata": {},
   "source": [
    "# Classical Mechanics I (PHYS 311)\n",
    "## Studio 13"
   ]
  },
  {
   "cell_type": "markdown",
   "metadata": {},
   "source": [
    "*Name:* \n",
    "\n",
    "*Date:* "
   ]
  },
  {
   "cell_type": "markdown",
   "metadata": {},
   "source": [
    "## Matrix Operations"
   ]
  },
  {
   "cell_type": "code",
   "execution_count": 2,
   "metadata": {
    "scrolled": true
   },
   "outputs": [
    {
     "name": "stdout",
     "output_type": "stream",
     "text": [
      "Populating the interactive namespace from numpy and matplotlib\n"
     ]
    }
   ],
   "source": [
    "%pylab inline"
   ]
  },
  {
   "cell_type": "markdown",
   "metadata": {},
   "source": [
    "Google how to represent matrices in numpy. If any of the following bolded terms are unfamiliar to you, google them! Wikipedia is your friend.\n",
    "\n",
    "1. Create a 3x3 matrix A.\n",
    "* Demonstrate how to multiply that matrix by a scalar.\n",
    "* Demonstrate multiplying A by a different 3x3 matrix. (This is not with the `*` operator!)\n",
    "* Multiply A by a (3D) vector. (i.e. calculate Av)\n",
    "* Calculate the **transpose** of A.\n",
    "* Calculate the **trace** of A.\n",
    "* Calculate the **determinant** of A.\n",
    "* Calculate the **inverse** of A.\n",
    "* Interpret A as a moment of inertia tensor and calculate the angular momentum $\\vec{L}$ if $\\vec{\\omega}=(0,0,1)$\n",
    "* Calculate $v^{T}Bv$ for $v=(10,1,1,1)$ and $B$ being the 4x4 matrix of the **Minkowski Metric** (google it!) [We'll learn a lot about this if you're taking 312!]\n",
    "* EC(+0.5): Create a 3-vector with nonzero x,y,z components, and rotate it about the x axis by an angle $pi/2$. Look up the form of a 3D rotation matrix.\n",
    "* EC(+0.5): Demonstrate a nonzero rotation of a 10-dimensional vector $\\vec{v}=(x_1,x_2,...,x_10)$ in the $x_1,x_2$ plane"
   ]
  },
  {
   "cell_type": "code",
   "execution_count": 3,
   "metadata": {},
   "outputs": [],
   "source": []
  }
 ],
 "metadata": {
  "kernelspec": {
   "display_name": "Python 3",
   "language": "python",
   "name": "python3"
  },
  "language_info": {
   "codemirror_mode": {
    "name": "ipython",
    "version": 3
   },
   "file_extension": ".py",
   "mimetype": "text/x-python",
   "name": "python",
   "nbconvert_exporter": "python",
   "pygments_lexer": "ipython3",
   "version": "3.6.10"
  },
  "toc": {
   "base_numbering": 1,
   "nav_menu": {},
   "number_sections": true,
   "sideBar": true,
   "skip_h1_title": false,
   "title_cell": "Table of Contents",
   "title_sidebar": "Contents",
   "toc_cell": false,
   "toc_position": {},
   "toc_section_display": true,
   "toc_window_display": false
  },
  "varInspector": {
   "cols": {
    "lenName": 16,
    "lenType": 16,
    "lenVar": 40
   },
   "kernels_config": {
    "python": {
     "delete_cmd_postfix": "",
     "delete_cmd_prefix": "del ",
     "library": "var_list.py",
     "varRefreshCmd": "print(var_dic_list())"
    },
    "r": {
     "delete_cmd_postfix": ") ",
     "delete_cmd_prefix": "rm(",
     "library": "var_list.r",
     "varRefreshCmd": "cat(var_dic_list()) "
    }
   },
   "types_to_exclude": [
    "module",
    "function",
    "builtin_function_or_method",
    "instance",
    "_Feature"
   ],
   "window_display": false
  }
 },
 "nbformat": 4,
 "nbformat_minor": 2
}
