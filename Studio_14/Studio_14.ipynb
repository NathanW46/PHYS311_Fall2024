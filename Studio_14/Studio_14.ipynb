{
 "cells": [
  {
   "cell_type": "markdown",
   "metadata": {},
   "source": [
    "# Classical Mechanics I (PHYS 311)\n",
    "## Studio 14"
   ]
  },
  {
   "cell_type": "markdown",
   "metadata": {},
   "source": [
    "*Name:* \n",
    "\n",
    "*Date:* "
   ]
  },
  {
   "cell_type": "markdown",
   "metadata": {},
   "source": [
    "## Matrix Operations"
   ]
  },
  {
   "cell_type": "code",
   "execution_count": 1,
   "metadata": {
    "scrolled": true
   },
   "outputs": [
    {
     "name": "stdout",
     "output_type": "stream",
     "text": [
      "Populating the interactive namespace from numpy and matplotlib\n"
     ]
    }
   ],
   "source": [
    "%pylab inline"
   ]
  },
  {
   "cell_type": "markdown",
   "metadata": {},
   "source": [
    "Google how to find the eigenvectors of matrices in numpy.\n",
    "\n",
    "1. Create a (3x3) diagonal matrix, and find its eigenvectors. Make sure it's not the identity matrix.\n",
    "* Do the same for a non-diagonal 3x3 matrix.\n",
    "* Calculate a moment of inertia tensor for a system of two particles with equal mass (let's set it to 1). One at the origin, and the other at (1,1,0). \n",
    "* Find the eigenvectors of this new moment of inertia tensor. (Comment on the resulting eigenvectors!) Notice that numpy will return normalized eigen vectors.\n",
    "* Now that you have the eigenvectors, you can express your system in a coordinate system defined by these three eigenvectors. Calculate the representation of the second particle position in this new coordinate system. (Remember that the $x^\\prime$ value of a vector $\\vec{v}$ will just be $\\vec{v}\\cdot\\hat{x}^{\\prime}$.) You should have new descriptions of the two particle positions in this new basis.\n",
    "* Calculate the moment of inertia tensor in this new coordinate system and show that it's diagonal! i.e. the Eigenvectors of the matrix are the principle axes!\n",
    "\n",
    "* EC(+0.5): Use some 3D axes to draw the above operations (starting from the two-particle system). Draw the two particles in the original basis. Draw the eigenvectors of the inertia tensor and show how this process is aligning the axes to the symmetry axes of the system.\n",
    "\n",
    "\n",
    "<!-- \n",
    "In these computational methods, you'll often find that floating point precision ends up giving you small errors. e.g. if an answer is supposed to be 0, you may end up with a very small value (e.g. $1\\times10^{-16}$ = \"`1e-16`\"). Don't be afraid if you see these values like this.\n",
    "\n",
    "* EC(+0.5): Write a function to \"clean\" up your results that will look at each element, and if it's below some small threshold (maybe 1e-5), sets it to zero. -->"
   ]
  },
  {
   "cell_type": "code",
   "execution_count": null,
   "metadata": {},
   "outputs": [],
   "source": []
  }
 ],
 "metadata": {
  "kernelspec": {
   "display_name": "Python 3",
   "language": "python",
   "name": "python3"
  },
  "language_info": {
   "codemirror_mode": {
    "name": "ipython",
    "version": 3
   },
   "file_extension": ".py",
   "mimetype": "text/x-python",
   "name": "python",
   "nbconvert_exporter": "python",
   "pygments_lexer": "ipython3",
   "version": "3.6.10"
  },
  "toc": {
   "base_numbering": 1,
   "nav_menu": {},
   "number_sections": true,
   "sideBar": true,
   "skip_h1_title": false,
   "title_cell": "Table of Contents",
   "title_sidebar": "Contents",
   "toc_cell": false,
   "toc_position": {},
   "toc_section_display": true,
   "toc_window_display": false
  },
  "varInspector": {
   "cols": {
    "lenName": 16,
    "lenType": 16,
    "lenVar": 40
   },
   "kernels_config": {
    "python": {
     "delete_cmd_postfix": "",
     "delete_cmd_prefix": "del ",
     "library": "var_list.py",
     "varRefreshCmd": "print(var_dic_list())"
    },
    "r": {
     "delete_cmd_postfix": ") ",
     "delete_cmd_prefix": "rm(",
     "library": "var_list.r",
     "varRefreshCmd": "cat(var_dic_list()) "
    }
   },
   "types_to_exclude": [
    "module",
    "function",
    "builtin_function_or_method",
    "instance",
    "_Feature"
   ],
   "window_display": false
  }
 },
 "nbformat": 4,
 "nbformat_minor": 2
}
