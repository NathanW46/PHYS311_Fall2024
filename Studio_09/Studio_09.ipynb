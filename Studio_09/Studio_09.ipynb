{
 "cells": [
  {
   "cell_type": "markdown",
   "metadata": {},
   "source": [
    "# Classical Mechanics I (PHYS 311)\n",
    "## Studio 9"
   ]
  },
  {
   "cell_type": "markdown",
   "metadata": {},
   "source": [
    "*Name:* \n",
    "\n",
    "*Date:* "
   ]
  },
  {
   "cell_type": "markdown",
   "metadata": {},
   "source": [
    "## More complex animations\n",
    "\n",
    "Make sure you were able to do everything in Studio 8!"
   ]
  },
  {
   "cell_type": "code",
   "execution_count": null,
   "metadata": {
    "scrolled": true
   },
   "outputs": [],
   "source": [
    "%pylab inline"
   ]
  },
  {
   "cell_type": "markdown",
   "metadata": {},
   "source": [
    "Remember we have these magic lines to give us access to the animation and conversion functionalities."
   ]
  },
  {
   "cell_type": "code",
   "execution_count": null,
   "metadata": {},
   "outputs": [],
   "source": [
    "import matplotlib.pyplot as plt\n",
    "from matplotlib.animation import FuncAnimation\n",
    "from IPython import display\n",
    "plt.rcParams['animation.ffmpeg_path'] = '/sw/cs400_centos7.3_acfsoftware/ffmpeg/4.0/centos7.3_binary/ffmpeg-4.0-64bit-static/ffmpeg'"
   ]
  },
  {
   "cell_type": "markdown",
   "metadata": {},
   "source": [
    "Last time, we defined a function `plotSomeStuff`.\n",
    "\n",
    "```python\n",
    "def plotSomeStuff(x_array, y_array, nframes=100, ax = None, fig = None):\n",
    "    if ax == None or fig == None:\n",
    "        fig, ax = plt.subplots()\n",
    "        ax.set_xlim(-10,10)\n",
    "        ax.set_ylim(-10, 10)\n",
    "\n",
    "    phi = linspace(0,2*np.pi,100)\n",
    "\n",
    "    marker1, = ax.plot([],\"o\") # Let's create an empty plot that has a circle marker\n",
    "    orbit1, = ax.plot([]) # Let's create an empty plot to eventually become an orbit line\n",
    "\n",
    "    def animate(frame_num):\n",
    "        \"\"\"\n",
    "        \"\"\"\n",
    "        x = x_array[frame_num]\n",
    "        y = y_array[frame_num]\n",
    "        \n",
    "        # Let's put a marker at the last position of these arrays.\n",
    "        # We're using set_data which is updating the data stored in the marker1 object.\n",
    "        marker1.set_data([x,y])\n",
    "        orbit1.set_data([ x_array[:frame_num],y_array[:frame_num] ])\n",
    "        return\n",
    "\n",
    "    anim = FuncAnimation(fig, animate, frames=nframes, interval=20)\n",
    "    video = anim.to_html5_video()\n",
    "    html = display.HTML(video)\n",
    "    display.display(html)\n",
    "    plt.close()\n",
    "```\n",
    "\n",
    "\n",
    "Let's now write a new function based on this. Instead of the first two arguments being numpy arrays, let's make them lists of numpy arrays. So instead of the first argument being `x_array` of type `np.array`, let's have it be `x_arrays` which looks like `[np.array, np.array, ...]`. And then have it animate the trajectories of all of the pairs of arrays handed to the function."
   ]
  },
  {
   "cell_type": "code",
   "execution_count": null,
   "metadata": {},
   "outputs": [],
   "source": [
    "def plotSomeStuff(x_arrays, y_arrays, nframes=100, ax = None, fig = None):\n",
    "    if ax == None or fig == None:\n",
    "        fig, ax = plt.subplots()\n",
    "        ax.set_xlim(-10,10)\n",
    "        ax.set_ylim(-10, 10)\n",
    "\n",
    "        \n",
    "    marker = {}\n",
    "    orbit = {}\n",
    "    \n",
    "    for ipath,(x_array, y_array) in enumerate(zip(x_arrays,y_arrays) ):\n",
    "        # !!!!!!!!!!!!!!!!!!!!!!!!!!!\n",
    "        # This is an example of how to loop over all pairs of x and y arrays.\n",
    "        # The zip function takes two lists and combines them into a single list like:\n",
    "        # zip( [a, b], [c, d] ) will give [ [a,c], [b,d] ]\n",
    "        # The enumerate function gives you an index for each object in an iterable list.\n",
    "        # So enumerate([a,b]) will give a new list [ [0,a], [1,b] ]\n",
    "        marker[ipath], = ax.plot([],\"o\")\n",
    "        orbit[ipath], = ax.plot([])\n",
    "\n",
    "    def animate(frame_num):\n",
    "        \"\"\"\n",
    "        \"\"\"\n",
    "        # !!!!!!!!!!!!!!!!!!!!!!!!!!!\n",
    "        # Now write some code here that would loop over all pairs of the x and y arrays (see above)\n",
    "        # and then use the set_data function like last week to edit each object in marker and orbit.\n",
    "        \n",
    "        return\n",
    "\n",
    "    anim = FuncAnimation(fig, animate, frames=nframes, interval=20)\n",
    "    video = anim.to_html5_video()\n",
    "    html = display.HTML(video)\n",
    "    display.display(html)\n",
    "    plt.close()\n",
    "\n",
    "\n",
    "# !!!!!!!!!!!!!!!!!!!!\n",
    "# Construct the x and y arrays for two particle circular orbits (of differing radius)\n",
    "# going in opposite directions\n",
    "# Store them as x_array1, y_array1 (to describe the path of particle 1)\n",
    "#           and x_array2, y_array2 (to describe particle 2's path)\n",
    "\n",
    "# Now we can run the function\n",
    "plotSomeStuff([x_array1,x_array2],[y_array1,y_array2],nframes)"
   ]
  },
  {
   "cell_type": "markdown",
   "metadata": {},
   "source": [
    "## Two-body problem"
   ]
  },
  {
   "cell_type": "markdown",
   "metadata": {},
   "source": [
    "Now we have a way of plotting the trajectories of multiple particles. Last week, we solved a system of ODEs to describe the motion of a single particle. Recall that we could map the 2-body gravitational problem onto a single particle of \"reduced\" mass $\\mu$ in a gravitational well centered at $\\vec{r}=0$. So let's remember how to get back to two particles from this simplified 1D problem.\n",
    "\n",
    "$$\\mu=\\frac{m_1m_2}{M}$$\n",
    "\n",
    "$$\\vec{r}_1 = \\vec{R}+\\frac{m_2}{M}\\vec{r}$$\n",
    "\n",
    "$$\\vec{r}_2 = \\vec{R}-\\frac{m_1}{M}\\vec{r}$$\n",
    "\n",
    "Let's set $\\vec{R}$ to 0 such that we're in the system's CoM frame at all times. This gives us all the ingredients we need.\n",
    "\n",
    "Solve the same ODE as last week, which will give you the x and y components of the vector $\\vec{r}$ as a function of time. Then convert those solutions into two separate vectors $\\vec{r}_1$ and $\\vec{r}_2$. Then hand those to your multi-particle plotting script above. You'll need to define values for the masses of your two particles, then calculate $\\mu$, and make sure you hand it to your ode_system call (using the `args=(thing,)` in your `odeint` call).\n",
    "\n",
    "Let's start with $m_1=m_2$."
   ]
  },
  {
   "cell_type": "code",
   "execution_count": null,
   "metadata": {},
   "outputs": [],
   "source": [
    "from scipy.integrate import odeint"
   ]
  },
  {
   "cell_type": "code",
   "execution_count": null,
   "metadata": {
    "scrolled": true
   },
   "outputs": [],
   "source": [
    "\n",
    "def ode_system(inputs,t,m):\n",
    "    \"\"\"\n",
    "    This function represents a series of first order ODEs.\n",
    "    \n",
    "    Return: List of expressions for the first time derivative of the inputs, in order.\n",
    "    \"\"\"\n",
    "    \n",
    "    # Parse the inputs list to positions x,y and vector magnitudes xdot,ydot\n",
    "    [x,y,xdot,ydot] = inputs\n",
    "    \n",
    "    r = np.hypot(x,y) # This is a handy function that computes sqrt(x^2+y^2) for you\n",
    "    phi = np.arctan2(y,x) # And this calculates the polar angle of our vector\n",
    "\n",
    "    Fr = -1/(r*r)\n",
    "    Fx = Fr*np.cos(phi)\n",
    "    Fy = Fr*np.sin(phi)\n",
    "    \n",
    "    # Return the expressions for the time-derivatives of the inputs.\n",
    "    return [xdot,ydot,Fx/m,Fy/m]\n",
    "\n",
    "\n",
    "# solve the ODE for position r of mass mu.\n",
    "# Convert the result in terms of r1 and r2. Plot these particle paths."
   ]
  },
  {
   "cell_type": "markdown",
   "metadata": {},
   "source": [
    "Play with your initial conditions to find some bound and unbound 2-body orbits. If you think you have an unbound orbit, make sure you let your time array go to large enough values to make sure they don't later come back!"
   ]
  },
  {
   "cell_type": "code",
   "execution_count": null,
   "metadata": {},
   "outputs": [],
   "source": []
  },
  {
   "cell_type": "markdown",
   "metadata": {},
   "source": [
    "Now start to play with the masses to see how the situation changes! The orbits change significantly!"
   ]
  },
  {
   "cell_type": "code",
   "execution_count": null,
   "metadata": {},
   "outputs": [],
   "source": []
  },
  {
   "cell_type": "markdown",
   "metadata": {},
   "source": [
    "**EC(+0.5): Define a new plotting function which can take the marker sizes as arguments, so that each circle size can be controlled individually. Then plot a 2-body problem orbit with two different mass values, and have the area of the circle be proportional to the mass of the particle (remember that the `plot` marker size changes the diameter of the circle).**"
   ]
  },
  {
   "cell_type": "code",
   "execution_count": null,
   "metadata": {},
   "outputs": [],
   "source": []
  },
  {
   "cell_type": "markdown",
   "metadata": {},
   "source": [
    "And that's it! You've solved the 2-body problem!"
   ]
  },
  {
   "cell_type": "code",
   "execution_count": null,
   "metadata": {},
   "outputs": [],
   "source": []
  }
 ],
 "metadata": {
  "kernelspec": {
   "display_name": "Python 3",
   "language": "python",
   "name": "python3"
  },
  "language_info": {
   "codemirror_mode": {
    "name": "ipython",
    "version": 3
   },
   "file_extension": ".py",
   "mimetype": "text/x-python",
   "name": "python",
   "nbconvert_exporter": "python",
   "pygments_lexer": "ipython3",
   "version": "3.6.10"
  },
  "toc": {
   "base_numbering": 1,
   "nav_menu": {},
   "number_sections": true,
   "sideBar": true,
   "skip_h1_title": false,
   "title_cell": "Table of Contents",
   "title_sidebar": "Contents",
   "toc_cell": false,
   "toc_position": {},
   "toc_section_display": true,
   "toc_window_display": false
  },
  "varInspector": {
   "cols": {
    "lenName": 16,
    "lenType": 16,
    "lenVar": 40
   },
   "kernels_config": {
    "python": {
     "delete_cmd_postfix": "",
     "delete_cmd_prefix": "del ",
     "library": "var_list.py",
     "varRefreshCmd": "print(var_dic_list())"
    },
    "r": {
     "delete_cmd_postfix": ") ",
     "delete_cmd_prefix": "rm(",
     "library": "var_list.r",
     "varRefreshCmd": "cat(var_dic_list()) "
    }
   },
   "types_to_exclude": [
    "module",
    "function",
    "builtin_function_or_method",
    "instance",
    "_Feature"
   ],
   "window_display": false
  }
 },
 "nbformat": 4,
 "nbformat_minor": 2
}
