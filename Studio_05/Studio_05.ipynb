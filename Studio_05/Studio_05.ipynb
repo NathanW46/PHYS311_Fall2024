{
 "cells": [
  {
   "cell_type": "markdown",
   "metadata": {},
   "source": [
    "# Classical Mechanics I (PHYS 311)\n",
    "## Studio 5"
   ]
  },
  {
   "cell_type": "markdown",
   "metadata": {},
   "source": [
    "*Name:* \n",
    "\n",
    "*Date:* "
   ]
  },
  {
   "cell_type": "markdown",
   "metadata": {},
   "source": [
    "## Introduction"
   ]
  },
  {
   "cell_type": "markdown",
   "metadata": {},
   "source": [
    "We're going to run through an example of the so-called Higgs potential -- a critical element of our modern theory of particles. And soon, we'll use these tools to descibe the Higgs boson mathematically.\n",
    "\n",
    "But the fundamental math we're doing here is important for all mechanics, solid state physics, particle physics, and even down to the fundamental way machine learning / artificial intelligence works."
   ]
  },
  {
   "cell_type": "code",
   "execution_count": null,
   "metadata": {
    "scrolled": true
   },
   "outputs": [],
   "source": [
    "%pylab inline"
   ]
  },
  {
   "cell_type": "markdown",
   "metadata": {},
   "source": [
    "In this week's reading and lecture, we'll learn that for conservative forces, that force is actually a consequence of a some potential.\n",
    "\n",
    "A potential is usually a *scalar field*. For every point in your space, there is a number associated with that potential. (Let's assume for now that it's a real number... but in general, a complex scalar is also a scalar.)\n",
    "\n",
    "$$V(\\vec{r})\\in \\mathcal{R}$$\n",
    "\n",
    "The force $\\vec{F}$ felt by a particle in that potential $V$ is given by:\n",
    "\n",
    "$$\\vec{F}(\\vec{r}) = -\\nabla V(\\vec{r})$$\n",
    "\n",
    "The *gradient* operator is denoted by $\\nabla$. This symbol is called \"grad\", \"del\", or sometimes \"nabla\". But notice that V is scalar values, while F needs to be vector valued! **So the gradient operator turns scalar fields to vector fields.**\n",
    "\n",
    "The gradient is just the spatial slope. In one dimension, it's just the derivative. If you're on a surface, it tells you how steep it is there, and in what direction it is steepest.\n",
    "\n",
    "[This figure from Wikipedia](https://en.wikipedia.org/wiki/Gradient#/media/File:3d-gradient-cos.svg) is a nice illustration of this. There is a function $f(x,y)$ where for every $x$ and $y$ value, it gives a value (that is drawn as the height). The gradient of this function $\\nabla f(x,y)$ is shown in blue arrows. For every value of $x$ and $y$, $\\nabla f$ has a vector whose magnitude is the slope, and direction shows you where \"uphill\" is.\n",
    "\n",
    "In one dimension ($x$), the gradient is simple. It's basically $\\hat{x}\\frac{d}{dx}$. \n",
    "\n",
    "$$\\nabla f(x) = \\frac{df}{dx}\\hat{x}$$\n",
    "\n",
    "It's the derivative with respect to x, scaling the x unit vector. Let's play with this a little...\n"
   ]
  },
  {
   "cell_type": "markdown",
   "metadata": {},
   "source": [
    "## 1D Gradient"
   ]
  },
  {
   "cell_type": "markdown",
   "metadata": {},
   "source": [
    "Let's try plotting the function\n",
    "\n",
    "$$V(x)=-50x^2+x^4$$\n",
    "\n",
    "on the interval of x=[-7,7]. Create a `linspace` on that range, make a **python function** that represents the function $V$, and then plot that function as a function of that linspace."
   ]
  },
  {
   "cell_type": "code",
   "execution_count": null,
   "metadata": {},
   "outputs": [],
   "source": []
  },
  {
   "cell_type": "markdown",
   "metadata": {},
   "source": [
    "Now let's use a built in function to compute the gradient from numpy, called `gradient()`. Try out a `?gradient` to read the documentation."
   ]
  },
  {
   "cell_type": "code",
   "execution_count": null,
   "metadata": {},
   "outputs": [],
   "source": [
    "?gradient"
   ]
  },
  {
   "cell_type": "markdown",
   "metadata": {},
   "source": [
    "Plot the negative gradient by instead of plotting `V(x_array)`, plot `-gradient(V(x_array))`. (Of course, substitute whatever you called your linspace and your function.) Comment on how many times the negative gradient crosses zero and where those points happen -- a visual inspection is fine."
   ]
  },
  {
   "cell_type": "code",
   "execution_count": null,
   "metadata": {},
   "outputs": [],
   "source": []
  },
  {
   "cell_type": "markdown",
   "metadata": {},
   "source": [
    "**EC(+0.5): Plot both the function and its negative gradient on the same plot. Make a legend for this plot, and properly label the negative gradient as $-\\nabla V(x)$. Look up how to use latex equations in matplotlib. **"
   ]
  },
  {
   "cell_type": "code",
   "execution_count": null,
   "metadata": {},
   "outputs": [],
   "source": []
  },
  {
   "cell_type": "code",
   "execution_count": null,
   "metadata": {},
   "outputs": [],
   "source": []
  },
  {
   "cell_type": "markdown",
   "metadata": {},
   "source": [
    "## 2D Gradient"
   ]
  },
  {
   "cell_type": "markdown",
   "metadata": {},
   "source": [
    "Let's expand this a bit and go to 2D! Let's consider the same function but replacing $x$ with a polar coordinate $r$.\n",
    "\n",
    "$$V(\\vec{r}) = -50 |\\vec{r}|^2 + |\\vec{r}|^4$$\n",
    "\n",
    "To plot this, we'll need to write a new function that takes in the X and Y components as inputs. `V2d(x,y)`. So you'll then need to calculate the radius $r$, and then return the (scalar) value of the potential V. (i.e. it still only returns one number per point in space.) Define that below."
   ]
  },
  {
   "cell_type": "code",
   "execution_count": null,
   "metadata": {
    "scrolled": true
   },
   "outputs": [],
   "source": []
  },
  {
   "cell_type": "markdown",
   "metadata": {},
   "source": [
    "We now need two linspaces. One to represent x and one to represent y. Go ahead and make those each between -5 and 5, but let's try to limit the number of steps to be 20 this time (to make some things easier later).\n",
    "\n",
    "And then we need to create a `meshgrid` (again, look at the documentation!) out of them. To create this, you'll do something like:\n",
    "\n",
    "`X,Y = meshgrid(x_array,y_array)`\n",
    "\n",
    "Once you have `X` and `Y` defined, you can hand these to your `V2d` function to produce a list of `Z` values. Store the output of your `V2d` function as an object called `Z`.\n",
    "\n",
    "To see a plot, simply run `pcolormesh(X,Y,Z)`. After you do that, you can just execute `colorbar()` which will create a color scale for you to understand what you're looking at."
   ]
  },
  {
   "cell_type": "code",
   "execution_count": null,
   "metadata": {},
   "outputs": [],
   "source": []
  },
  {
   "cell_type": "markdown",
   "metadata": {},
   "source": [
    "Comment on the plot you got above here:\n",
    "\n",
    "\n",
    "\n",
    "\n",
    "\n"
   ]
  },
  {
   "cell_type": "markdown",
   "metadata": {},
   "source": []
  },
  {
   "cell_type": "markdown",
   "metadata": {},
   "source": [
    "Now, let's do it! Let's take the gradient of this 2D potential! Now the output of the gradient will be a **vector field**. So for every point in this 2D space, it'll give a 2D vector.\n",
    "\n",
    "In 2 dimensions, the gradient is:\n",
    "\n",
    "$$\\nabla f(x,y) = \\hat{x} \\frac{\\partial f}{\\partial x} + \\hat{y}\\frac{\\partial f}{\\partial y}$$\n",
    "\n",
    "If you haven't seen this notation before, $\\frac{\\partial f}{\\partial x}$ is the *partial* derivative of $f$ with respect to $x$. This means, let's ignore the other dimensions and ask the question -- how does my function change as a function of just $x$. This creeps in now that we're starting to play with multi-dimensional problems.\n",
    "\n",
    "This can be generalized into any N-dimensional gradient. \n",
    "\n",
    "$$\\nabla f(x_1,x_2,...,x_N) = \\sum_i^N \\hat{x_i} \\frac{\\partial f}{\\partial x_i}$$\n",
    "\n",
    "(Aside: This is a foundational tool in machine learning, where you look at the \"gradient descent\" of a hyper-surface (high N-dimensional surface) that shows the performance of the network as a function of all of the parameters of the network. Then the \"learning\" is about using the gradient to figure out how to change the parameters to improve the performance score.)\n",
    "\n",
    "This is all hard to visualize. But in 2D, it's not so bad. For this, we often will super shrink down the length of the vectors into what's called a quiver plot (it has lots of arrows. get it?). That way you can understand the general behaviors of the vector field, even if you can't tell the overall magnitude of the vectors easily.\n",
    "\n",
    "Let's first get the gradient of this potential. For every value of `Z`, we'll get a 2D vector out of the `gradient` function now."
   ]
  },
  {
   "cell_type": "code",
   "execution_count": null,
   "metadata": {},
   "outputs": [],
   "source": [
    "# For each point in space, we'll get a two-component vector out (u,v).\n",
    "\n",
    "# It's a bit counter-intuitive, but the u (the x-component) will be\n",
    "# on the second axis (nested two levels deep) of the Z object.\n",
    "# And the v will be on the first axis (the top level array)\n",
    "# This is confusing so I've just given you the answer here:\n",
    "u=-gradient(Z,axis=1)\n",
    "v=-gradient(Z,axis=0)\n",
    "\n",
    "\n",
    "# Now you'll hand them to the function quiver. Here:\n",
    "\n",
    "\n",
    "\n",
    "\n",
    "\n",
    "\n",
    "# Play with it until you can see the arrows of the vector field\n",
    "# ... like in the blue arrows on the wikipedia example.\n",
    "\n",
    "# Make sure to also make a version where you can see which direction the\n",
    "# arrows point near the center. (Hint: Try playing with the x and y\n",
    "# linspaces to zoom in, and/or look up the scale parameter of quiver().)"
   ]
  },
  {
   "cell_type": "markdown",
   "metadata": {},
   "source": [
    "You're here! You're looking at what could be considered a force field for the Higgs potential. Comment on the behavior of the \"force field\" you've calculated here."
   ]
  },
  {
   "cell_type": "markdown",
   "metadata": {},
   "source": []
  },
  {
   "cell_type": "markdown",
   "metadata": {},
   "source": [
    "We'll play with this a bit more next time!"
   ]
  },
  {
   "cell_type": "markdown",
   "metadata": {},
   "source": [
    "## EC(+1.0):\n",
    "\n",
    "Make a 3D quiver plot showing the gradient vector field for a 3D analog of this same function where polar $r$ is replaced by spherical polar $r$ in 3D. Google is your friend for this.\n",
    "\n"
   ]
  },
  {
   "cell_type": "code",
   "execution_count": null,
   "metadata": {},
   "outputs": [],
   "source": []
  }
 ],
 "metadata": {
  "kernelspec": {
   "display_name": "Python 3",
   "language": "python",
   "name": "python3"
  },
  "language_info": {
   "codemirror_mode": {
    "name": "ipython",
    "version": 3
   },
   "file_extension": ".py",
   "mimetype": "text/x-python",
   "name": "python",
   "nbconvert_exporter": "python",
   "pygments_lexer": "ipython3",
   "version": "3.8.8"
  },
  "toc": {
   "base_numbering": 1,
   "nav_menu": {},
   "number_sections": true,
   "sideBar": true,
   "skip_h1_title": false,
   "title_cell": "Table of Contents",
   "title_sidebar": "Contents",
   "toc_cell": false,
   "toc_position": {},
   "toc_section_display": true,
   "toc_window_display": false
  },
  "varInspector": {
   "cols": {
    "lenName": 16,
    "lenType": 16,
    "lenVar": 40
   },
   "kernels_config": {
    "python": {
     "delete_cmd_postfix": "",
     "delete_cmd_prefix": "del ",
     "library": "var_list.py",
     "varRefreshCmd": "print(var_dic_list())"
    },
    "r": {
     "delete_cmd_postfix": ") ",
     "delete_cmd_prefix": "rm(",
     "library": "var_list.r",
     "varRefreshCmd": "cat(var_dic_list()) "
    }
   },
   "types_to_exclude": [
    "module",
    "function",
    "builtin_function_or_method",
    "instance",
    "_Feature"
   ],
   "window_display": false
  }
 },
 "nbformat": 4,
 "nbformat_minor": 2
}
